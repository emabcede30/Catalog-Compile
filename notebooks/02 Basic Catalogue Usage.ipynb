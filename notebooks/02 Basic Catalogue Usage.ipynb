{
 "cells": [
  {
   "cell_type": "code",
   "execution_count": 2,
   "metadata": {},
   "outputs": [],
   "source": [
    "%matplotlib inline\n",
    "import numpy as np\n",
    "import matplotlib.pyplot as plt\n",
    "\n",
    "# Import the Parsers\n",
    "from openquake.cat.parsers.isf_catalogue_reader import ISFReader\n",
    "from openquake.cat.parsers.gcmt_ndk_parser import ParseNDKtoGCMT\n",
    "from openquake.cat.parsers.converters import (GenericCataloguetoISFParser,\n",
    "                                      GenericCataloguetoGCMT,\n",
    "                                      GCMTtoISFParser)"
   ]
  },
  {
   "cell_type": "code",
   "execution_count": null,
   "metadata": {},
   "outputs": [],
   "source": []
  },
  {
   "cell_type": "markdown",
   "metadata": {},
   "source": [
    "## Load in ISF Catalogue"
   ]
  },
  {
   "cell_type": "markdown",
   "metadata": {},
   "source": [
    "### With all agencies"
   ]
  },
  {
   "cell_type": "code",
   "execution_count": null,
   "metadata": {},
   "outputs": [],
   "source": [
    "parser = ISFReader(\"inputs/1900-1999-PH_ISF_Catalogue.txt\")\n",
    "catalogue1 = parser.read_file(\"ISC_DB1\", \"ISC Global M >= 5\")\n",
    "print(\"Catalogue contains: %d events\" % catalogue1.get_number_events())"
   ]
  },
  {
   "cell_type": "code",
   "execution_count": null,
   "metadata": {},
   "outputs": [],
   "source": [
    "# Build Dataframes\n",
    "origin_df1, magnitude_df1 = catalogue1.build_dataframe()"
   ]
  },
  {
   "cell_type": "code",
   "execution_count": null,
   "metadata": {
    "scrolled": true
   },
   "outputs": [],
   "source": [
    "origin_df1"
   ]
  },
  {
   "cell_type": "code",
   "execution_count": null,
   "metadata": {
    "scrolled": true
   },
   "outputs": [],
   "source": [
    "magnitude_df1"
   ]
  },
  {
   "cell_type": "code",
   "execution_count": null,
   "metadata": {},
   "outputs": [],
   "source": [
    "import datetime\n",
    "# Get the current date and time\n",
    "current_datetime = datetime.datetime.now()\n",
    "formatted_date = current_datetime.strftime(\"%Y.%m.%d.%H.%M.%S\")\n",
    "\n",
    "# Create the filename using the formatted date\n",
    "filename1 = f\"outputs/1900-2021-PH_ISF_Catalogue_origins_{formatted_date}.csv\"\n",
    "filename2 = f\"outputs/1900-2021-PH_ISF_Catalogue_magnitudes_{formatted_date}.csv\"\n",
    "\n",
    "# Save the DataFrame to CSV using the filename\n",
    "origin_df1.to_csv(filename1, index=False)\n",
    "magnitude_df1.to_csv(filename2, index=False)"
   ]
  },
  {
   "cell_type": "markdown",
   "metadata": {},
   "source": [
    "### With only ISC, EHB and NEIC"
   ]
  },
  {
   "cell_type": "code",
   "execution_count": null,
   "metadata": {},
   "outputs": [],
   "source": [
    "parser2 = ISFReader(\"inputs/1900-1999-PH_ISF_Catalogue.txt\",\n",
    "                   selected_origin_agencies=[\"ISC\", \"EHB\", \"NEIC\"],\n",
    "                   selected_magnitude_agencies=[\"ISC\", \"EHB\", \"NEIC\"])\n",
    "catalogue2 = parser2.read_file(\"ISC_DB2\", \"ISC Global M >= 5\")\n",
    "print(\"Catalogue contains: %d events\" % catalogue2.get_number_events())"
   ]
  },
  {
   "cell_type": "code",
   "execution_count": null,
   "metadata": {},
   "outputs": [],
   "source": [
    "# Build Dataframes\n",
    "origin_df2, magnitude_df2 = catalogue2.build_dataframe()"
   ]
  },
  {
   "cell_type": "code",
   "execution_count": null,
   "metadata": {
    "scrolled": true
   },
   "outputs": [],
   "source": [
    "origin_df2"
   ]
  },
  {
   "cell_type": "code",
   "execution_count": null,
   "metadata": {
    "scrolled": true
   },
   "outputs": [],
   "source": [
    "magnitude_df2"
   ]
  },
  {
   "cell_type": "markdown",
   "metadata": {},
   "source": [
    "## Read in GCMT Catalogue (NDK Format) "
   ]
  },
  {
   "cell_type": "code",
   "execution_count": null,
   "metadata": {},
   "outputs": [],
   "source": [
    "gcmt_parser = ParseNDKtoGCMT(\"inputs/gcmt_test_catalogue.txt\")\n",
    "gcmt_cat = gcmt_parser.read_file()\n",
    "print(\"GCMT Catalogue contains %d moment tensors\" % gcmt_cat.number_events())\n"
   ]
  },
  {
   "cell_type": "code",
   "execution_count": null,
   "metadata": {},
   "outputs": [],
   "source": [
    "# Build Dataframes\n",
    "catalogue3 = GCMTtoISFParser(\"inputs/gcmt_test_catalogue.txt\").parse()\n",
    "origin_df3, magnitude_df3 = catalogue3.build_dataframe()\n",
    "origin_df3"
   ]
  },
  {
   "cell_type": "code",
   "execution_count": null,
   "metadata": {},
   "outputs": [],
   "source": [
    "magnitude_df3"
   ]
  },
  {
   "cell_type": "code",
   "execution_count": null,
   "metadata": {},
   "outputs": [],
   "source": []
  }
 ],
 "metadata": {
  "kernelspec": {
   "display_name": "Python 3 (ipykernel)",
   "language": "python",
   "name": "python3"
  },
  "language_info": {
   "codemirror_mode": {
    "name": "ipython",
    "version": 3
   },
   "file_extension": ".py",
   "mimetype": "text/x-python",
   "name": "python",
   "nbconvert_exporter": "python",
   "pygments_lexer": "ipython3",
   "version": "3.10.8"
  }
 },
 "nbformat": 4,
 "nbformat_minor": 1
}
