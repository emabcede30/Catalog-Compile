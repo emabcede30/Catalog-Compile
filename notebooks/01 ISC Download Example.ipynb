{
 "cells": [
  {
   "cell_type": "markdown",
   "metadata": {},
   "source": [
    "# The ISC Bulletin Download Utility"
   ]
  },
  {
   "cell_type": "markdown",
   "metadata": {},
   "source": [
    "The isc_downloader package provides a set of APIs to download a customized ISC catalogue from the ISC website (http://www.isc.ac.uk/iscbulletin/) using the Python command line."
   ]
  },
  {
   "cell_type": "code",
   "execution_count": 34,
   "metadata": {},
   "outputs": [],
   "source": [
    "%matplotlib inline\n",
    "import openquake.cat.isc_downloader as isc"
   ]
  },
  {
   "cell_type": "markdown",
   "metadata": {},
   "source": [
    "### Basic Usage\n",
    "At first, an url-based catalogue request object should be created with:"
   ]
  },
  {
   "cell_type": "code",
   "execution_count": 35,
   "metadata": {},
   "outputs": [],
   "source": [
    "Cat1900_1999 = isc.ISCBulletinUrl()\n",
    "Cat2000_2009 = isc.ISCBulletinUrl()\n",
    "Cat2010_2014 = isc.ISCBulletinUrl()\n",
    "Cat2015_2021 = isc.ISCBulletinUrl()\n",
    "Cat2021_2023 = isc.ISCBulletinUrl()"
   ]
  },
  {
   "cell_type": "markdown",
   "metadata": {},
   "source": [
    "The object contains a set of default parameters that can be listed with the merthod 'ListField'. A full description of each parameter and the list of available options can be found at http://www.isc.ac.uk/iscbulletin/search/webservices/."
   ]
  },
  {
   "cell_type": "code",
   "execution_count": 36,
   "metadata": {
    "scrolled": true
   },
   "outputs": [
    {
     "name": "stdout",
     "output_type": "stream",
     "text": [
      "\n",
      "CURRENT SETTINGS:\n",
      "\n",
      "\tCatalogueType = REVIEWED\n",
      "\tOutputFormat = ISF\n",
      "\tSearchAreaShape = RECT\n",
      "\tRectangleBottomLatitude = 36\n",
      "\tRectangleTopLatitude = 48\n",
      "\tRectangleLeftLongitude = 6\n",
      "\tRectangleRightLongitude = 19\n",
      "\tCircularLatitude = [Empty]\n",
      "\tCircularLongitude = [Empty]\n",
      "\tCircularRadius = [Empty]\n",
      "\tMaxDistanceUnits = deg\n",
      "\tSeismicRegionNumber = [Empty]\n",
      "\tGeogrephicRegionNumber = [Empty]\n",
      "\tPolygonCoordinates = [Empty]\n",
      "\tStartYear = 2012\n",
      "\tStartMonth = 01\n",
      "\tStartDay = 01\n",
      "\tStartTime = 00:00:00\n",
      "\tEndYear = 2013\n",
      "\tEndMonth = 12\n",
      "\tEndDay = 31\n",
      "\tEndTime = 23:59:59\n",
      "\tMinimumDepth = [Empty]\n",
      "\tMaximumDepth = [Empty]\n",
      "\tNoDepthEvents = on\n",
      "\tMinimumMagnitude = [Empty]\n",
      "\tMaximumMagnitude = [Empty]\n",
      "\tNoMagnitudeEvents = on\n",
      "\tMagnitudeType = [Empty]\n",
      "\tMagnitudeAgency = [Empty]\n",
      "\tFocalMechanismAgency = Any\n",
      "\tIncludePhases = off\n",
      "\tMinimumPhaseNumber = [Empty]\n",
      "\tMaximumPhaseNumber = [Empty]\n",
      "\tNoKnownPhases = [Empty]\n",
      "\tPrimeOnly = [Empty]\n",
      "\tIncludeMagnitudes = on\n",
      "\tIncludeHeaders = on\n",
      "\tIncludeComments = off\n",
      "\tIncludeLinks = off\n"
     ]
    }
   ],
   "source": [
    "Cat2015_2021.ListFields()"
   ]
  },
  {
   "cell_type": "markdown",
   "metadata": {},
   "source": [
    "Each parameter can then be modified with the method 'SetField'(particular care should be paid to the standard format of the different options).\n",
    "For example, the desired output format for the catalogue can be set to ISF with the following command:"
   ]
  },
  {
   "cell_type": "code",
   "execution_count": 37,
   "metadata": {},
   "outputs": [],
   "source": [
    "Cat1900_1999.SetField(\"OutputFormat\",\"ISF\")\n",
    "Cat2000_2009.SetField(\"OutputFormat\",\"ISF\")\n",
    "Cat2010_2014.SetField(\"OutputFormat\",\"ISF\")\n",
    "Cat2015_2021.SetField(\"OutputFormat\",\"ISF\")\n",
    "Cat2021_2023.SetField(\"OutputFormat\",\"ISF\")"
   ]
  },
  {
   "cell_type": "markdown",
   "metadata": {},
   "source": [
    "As well, starting and ending time for the catalogue can be set with:"
   ]
  },
  {
   "cell_type": "code",
   "execution_count": 38,
   "metadata": {},
   "outputs": [],
   "source": [
    "Cat1900_1999.SetField(\"StartYear\",\"1900\")\n",
    "Cat2000_2009.SetField(\"StartYear\",\"2000\")\n",
    "Cat2010_2014.SetField(\"StartYear\",\"2010\")\n",
    "Cat2015_2021.SetField(\"StartYear\",\"2015\")\n",
    "Cat2021_2023.SetField(\"StartYear\",\"2021\")\n",
    "Cat2021_2023.SetField(\"StartMonth\",\"07\")\n",
    "Cat2021_2023.SetField(\"StartDay\",\"01\")\n",
    "\n",
    "\n",
    "Cat1900_1999.SetField(\"EndYear\",\"1999\")\n",
    "Cat2000_2009.SetField(\"EndYear\",\"2009\")\n",
    "Cat2010_2014.SetField(\"EndYear\",\"2014\")\n",
    "Cat2015_2021.SetField(\"EndYear\",\"2021\")\n",
    "Cat2015_2021.SetField(\"EndMonth\",\"06\")\n",
    "Cat2015_2021.SetField(\"EndDay\",\"30\")\n",
    "Cat2021_2023.SetField(\"EndYear\",\"2023\")\n"
   ]
  },
  {
   "cell_type": "markdown",
   "metadata": {},
   "source": [
    "or search area (Nepal in this example):"
   ]
  },
  {
   "cell_type": "code",
   "execution_count": 39,
   "metadata": {},
   "outputs": [],
   "source": [
    "Cat1900_1999.SetField('SearchAreaShape','RECT')\n",
    "Cat1900_1999.SetField('RectangleBottomLatitude','1')\n",
    "Cat1900_1999.SetField('RectangleTopLatitude','24')\n",
    "Cat1900_1999.SetField('RectangleLeftLongitude','114')\n",
    "Cat1900_1999.SetField('RectangleRightLongitude','130')\n",
    "\n",
    "Cat2000_2009.SetField('SearchAreaShape','RECT')\n",
    "Cat2000_2009.SetField('RectangleBottomLatitude','1')\n",
    "Cat2000_2009.SetField('RectangleTopLatitude','24')\n",
    "Cat2000_2009.SetField('RectangleLeftLongitude','114')\n",
    "Cat2000_2009.SetField('RectangleRightLongitude','130')\n",
    "\n",
    "Cat2010_2014.SetField('SearchAreaShape','RECT')\n",
    "Cat2010_2014.SetField('RectangleBottomLatitude','1')\n",
    "Cat2010_2014.SetField('RectangleTopLatitude','24')\n",
    "Cat2010_2014.SetField('RectangleLeftLongitude','114')\n",
    "Cat2010_2014.SetField('RectangleRightLongitude','130')\n",
    "\n",
    "Cat2015_2021.SetField('SearchAreaShape','RECT')\n",
    "Cat2015_2021.SetField('RectangleBottomLatitude','1')\n",
    "Cat2015_2021.SetField('RectangleTopLatitude','24')\n",
    "Cat2015_2021.SetField('RectangleLeftLongitude','114')\n",
    "Cat2015_2021.SetField('RectangleRightLongitude','130')\n",
    "\n",
    "Cat2021_2023.SetField('SearchAreaShape','RECT')\n",
    "Cat2021_2023.SetField('RectangleBottomLatitude','1')\n",
    "Cat2021_2023.SetField('RectangleTopLatitude','24')\n",
    "Cat2021_2023.SetField('RectangleLeftLongitude','114')\n",
    "Cat2021_2023.SetField('RectangleRightLongitude','130') \n",
    "Cat2021_2023.SetField('CatalogueType','COMPREHENSIVE') #unreviewed ISC catalogue up to present"
   ]
  },
  {
   "cell_type": "markdown",
   "metadata": {},
   "source": [
    "NOTE: When modified, optional parameters can be set back empty by using empty strings: "
   ]
  },
  {
   "cell_type": "code",
   "execution_count": null,
   "metadata": {},
   "outputs": [],
   "source": [
    "Cat1.SetField(\"MinimumDepth\",\"\")"
   ]
  },
  {
   "cell_type": "markdown",
   "metadata": {},
   "source": [
    "Finally, the catalogue can simply be downloaded with the command:"
   ]
  },
  {
   "cell_type": "code",
   "execution_count": 44,
   "metadata": {},
   "outputs": [],
   "source": [
    "Cat1900_1999.GetCatalogue()\n",
    "# Cat2000_2009.GetCatalogue()\n",
    "# Cat2010_2014.GetCatalogue()\n",
    "# Cat2015_2021.GetCatalogue()\n",
    "# Cat2021_2023.GetCatalogue()"
   ]
  },
  {
   "cell_type": "markdown",
   "metadata": {},
   "source": [
    "And the result saved to disk:"
   ]
  },
  {
   "cell_type": "code",
   "execution_count": 41,
   "metadata": {},
   "outputs": [],
   "source": [
    "# Cat1900_1999.WriteOutput(\"outputs/1900-1999-PH_ISF_Catalogue.isf\")\n",
    "# Cat2000_2009.WriteOutput(\"outputs/2000-2009-PH_ISF_Catalogue.isf\")\n",
    "# Cat2010_2014.WriteOutput(\"outputs/2010-2014-PH_ISF_Catalogue.isf\")\n",
    "# Cat2015_2021.WriteOutput(\"outputs/2015-2021-PH_ISF_Catalogue.isf\")\n",
    "Cat2021_2023.WriteOutput(\"outputs/2021-2023-PH_ISF_Catalogue.isf\")"
   ]
  },
  {
   "cell_type": "markdown",
   "metadata": {},
   "source": [
    "The catalogue has been saved in an ascii file that can later be manipulated with the GEM catalogue tools."
   ]
  },
  {
   "cell_type": "code",
   "execution_count": 42,
   "metadata": {
    "scrolled": true
   },
   "outputs": [
    {
     "name": "stderr",
     "output_type": "stream",
     "text": [
      "IOPub data rate exceeded.\n",
      "The notebook server will temporarily stop sending output\n",
      "to the client in order to avoid crashing it.\n",
      "To change this limit, set the config variable\n",
      "`--NotebookApp.iopub_data_rate_limit`.\n",
      "\n",
      "Current values:\n",
      "NotebookApp.iopub_data_rate_limit=1000000.0 (bytes/sec)\n",
      "NotebookApp.rate_limit_window=3.0 (secs)\n",
      "\n"
     ]
    }
   ],
   "source": [
    "f = open(\"outputs/2021-2023-PH_ISF_Catalogue.isf\", \"r\");\n",
    "print(f.read())\n",
    "f.close()"
   ]
  },
  {
   "cell_type": "markdown",
   "metadata": {},
   "source": [
    "### Saving/Loading Parameters\n",
    "One might want to save the current settings on a separate file, to be used as reference or subsequently to download another catalogue. This can be done with the command:"
   ]
  },
  {
   "cell_type": "code",
   "execution_count": 43,
   "metadata": {},
   "outputs": [],
   "source": [
    "# Cat1900_1999.SaveSettings(\"outputs/1900-1999-PH_ISF_Settings.par\")\n",
    "# Cat2000_2009.SaveSettings(\"outputs/2000-2009-PH_ISF_Settings.par\")\n",
    "# Cat2010_2014.SaveSettings(\"outputs/2010-2014-PH_ISF_Settings.par\")\n",
    "# Cat2015_2021.SaveSettings(\"outputs/2015-2021-PH_ISF_Settings.par\")\n",
    "Cat2021_2023.SaveSettings(\"outputs/2021-2023-PH_ISF_Settings.par\")"
   ]
  },
  {
   "cell_type": "code",
   "execution_count": null,
   "metadata": {
    "scrolled": true
   },
   "outputs": [],
   "source": [
    "f = open(\"outputs/1900-1999-PH_ISF_Settings.par\", \"r\")\n",
    "print(f.read())\n",
    "f.close()"
   ]
  },
  {
   "cell_type": "markdown",
   "metadata": {},
   "source": [
    "As well, the parameters in the parameter file can be loaded back into memory with:"
   ]
  },
  {
   "cell_type": "code",
   "execution_count": null,
   "metadata": {},
   "outputs": [],
   "source": [
    "Cat2 = isc.ISCBulletinUrl()\n",
    "Cat2.LoadSettings(\"outputs/Example_Settings.par\")"
   ]
  },
  {
   "cell_type": "markdown",
   "metadata": {},
   "source": [
    "### Additional Formats\n",
    "The ISC event catalogue can be saved in CSV format:"
   ]
  },
  {
   "cell_type": "code",
   "execution_count": null,
   "metadata": {},
   "outputs": [],
   "source": [
    "Cat1.SetField(\"OutputFormat\",\"CATCSV\")\n",
    "Cat1.GetCatalogue()\n",
    "Cat1.WriteOutput(\"outputs/Example_CSV_Catalogue.csv\")"
   ]
  },
  {
   "cell_type": "code",
   "execution_count": null,
   "metadata": {},
   "outputs": [],
   "source": [
    "f = open(\"outputs/Example_CSV_Catalogue.csv\", \"r\")\n",
    "print(f.read())\n",
    "f.close()"
   ]
  },
  {
   "cell_type": "markdown",
   "metadata": {},
   "source": [
    "Catalogue of focal mechanisms is also available in CSV format:"
   ]
  },
  {
   "cell_type": "code",
   "execution_count": null,
   "metadata": {},
   "outputs": [],
   "source": [
    "Cat1.SetField(\"OutputFormat\",\"FMCSV\")\n",
    "Cat1.SetField(\"StartYear\",\"2000\")\n",
    "Cat1.SetField(\"EndYear\",\"2005\")\n",
    "Cat1.GetCatalogue()\n",
    "Cat1.WriteOutput(\"outputs/Example_FM_Catalogue.csv\")"
   ]
  },
  {
   "cell_type": "code",
   "execution_count": null,
   "metadata": {
    "scrolled": true
   },
   "outputs": [],
   "source": [
    "f = open(\"outputs/Example_FM_Catalogue.csv\", \"r\")\n",
    "print(f.read())\n",
    "f.close()"
   ]
  },
  {
   "cell_type": "markdown",
   "metadata": {
    "collapsed": true
   },
   "source": [
    "### Solving download issues\n",
    "Note that sometimes the ISC server is heavily loaded and the http request might fail.\n",
    "In such a case it could be conveninent to use an alternate (mirror) server:"
   ]
  },
  {
   "cell_type": "code",
   "execution_count": null,
   "metadata": {},
   "outputs": [],
   "source": [
    "Cat1.UseMirror()"
   ]
  },
  {
   "cell_type": "markdown",
   "metadata": {
    "collapsed": true
   },
   "source": [
    "Moreover, long time windows might produce a too large number of events, which cannot be downloaded in one block. The code gives the possibility to download the catalogue in separated blocks of a prescr\n",
    "ibed duration (using option SplitYears). The blocks are then automatically merged into a unique output:\n"
   ]
  },
  {
   "cell_type": "code",
   "execution_count": null,
   "metadata": {},
   "outputs": [],
   "source": [
    "Cat1.SetField(\"OutputFormat\",\"ISF\")\n",
    "Cat1.GetCatalogue(SplitYears=1)"
   ]
  },
  {
   "cell_type": "markdown",
   "metadata": {},
   "source": [
    "Optionally, one can overwrite a previous download:"
   ]
  },
  {
   "cell_type": "code",
   "execution_count": null,
   "metadata": {},
   "outputs": [],
   "source": [
    "Cat1.WriteOutput('outputs/Example_ISF_Catalogue_SPLIT.isf', OverWrite=True)"
   ]
  },
  {
   "cell_type": "markdown",
   "metadata": {},
   "source": [
    "### get isc-gem.csv to isf format"
   ]
  },
  {
   "cell_type": "code",
   "execution_count": null,
   "metadata": {},
   "outputs": [],
   "source": [
    "from eqcat.parsers.converters import (GenericCataloguetoISFParser,\n",
    "                                      GenericCataloguetoGCMT,\n",
    "                                      GCMTtoISFParser)\n",
    "\n",
    "from eqcat.parsers.generic_catalogue import (GenericCataloguetoISFParser,\n",
    "                                      GenericCataloguetoGCMT,\n",
    "                                      GCMTtoISFParser)"
   ]
  }
 ],
 "metadata": {
  "kernelspec": {
   "display_name": "Python 3 (ipykernel)",
   "language": "python",
   "name": "python3"
  },
  "language_info": {
   "codemirror_mode": {
    "name": "ipython",
    "version": 3
   },
   "file_extension": ".py",
   "mimetype": "text/x-python",
   "name": "python",
   "nbconvert_exporter": "python",
   "pygments_lexer": "ipython3",
   "version": "3.10.8"
  }
 },
 "nbformat": 4,
 "nbformat_minor": 1
}
