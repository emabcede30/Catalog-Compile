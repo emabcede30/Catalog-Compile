{
 "cells": [
  {
   "cell_type": "code",
   "execution_count": 22,
   "metadata": {},
   "outputs": [],
   "source": [
    "# Merge ISC-GEM, ISF 1900-2021, USGS comcat, Pacheco-Sykes, and GCMT sample files using km distances for delta_ll\n",
    "\n",
    "import os\n",
    "import unittest\n",
    "import tempfile\n",
    "import numpy as np\n",
    "import pandas as pd\n",
    "import toml\n",
    "\n",
    "from openquake.cat.hmg import merge\n",
    "\n",
    "BASE_PATH = os.getcwd()"
   ]
  },
  {
   "cell_type": "code",
   "execution_count": 27,
   "metadata": {},
   "outputs": [],
   "source": [
    "SETTINGS_GLOBAL = \"\"\"\n",
    "\n",
    "[general]\n",
    "output_path = \"{:s}\"\n",
    "output_prefix = \"merged_\"\n",
    "log_file = \"{:s}\"\n",
    "\n",
    "# Catalogues\n",
    "\n",
    "[[catalogues]]\n",
    "code = \"ISCRB1900-1999\"\n",
    "name = \"ISC Reviewd Bulletin 1900-1999\"\n",
    "filename = \"{:s}\"\n",
    "type = \"isf\"\n",
    "select_region = false\n",
    "\n",
    "\n",
    "[[catalogues]]\n",
    "code = \"ISCRB2000-2009\"\n",
    "name = \"ISC Reviewd Bulletin 2000-2009\"\n",
    "filename = \"{:s}\"\n",
    "type = \"isf\"\n",
    "select_region = false\n",
    "delta_ll = 20\n",
    "delta_t =  5\n",
    "timezone = 0\n",
    "buff_ll = 0.0\n",
    "buff_t = 5.0\n",
    "use_kms = true\n",
    "\n",
    "\n",
    "[[catalogues]]\n",
    "code = \"ISCRB2010-2014\"\n",
    "name = \"ISC Reviewd Bulletin 2010-2014\"\n",
    "filename = \"{:s}\"\n",
    "type = \"isf\"\n",
    "select_region = false\n",
    "\n",
    "\n",
    "[[catalogues]]\n",
    "code = \"ISCRB2015-2021\"\n",
    "name = \"ISC Reviewd Bulletin 2015-2021\"\n",
    "filename = \"{:s}\"\n",
    "type = \"isf\"\n",
    "select_region = false\n",
    "\n",
    "\n",
    "\"\"\""
   ]
  },
  {
   "cell_type": "code",
   "execution_count": 28,
   "metadata": {},
   "outputs": [
    {
     "data": {
      "text/plain": [
       "'c:\\\\Users\\\\enrico.abcede\\\\Desktop\\\\catalogue\\\\Catalog-Compile\\\\git-notebooks\\\\temp'"
      ]
     },
     "execution_count": 28,
     "metadata": {},
     "output_type": "execute_result"
    }
   ],
   "source": [
    "data_path = os.path.join(BASE_PATH, 'inputs')\n",
    "tmpd = os.path.join(BASE_PATH, 'temp')\n",
    "tmpd"
   ]
  },
  {
   "cell_type": "code",
   "execution_count": 29,
   "metadata": {},
   "outputs": [],
   "source": [
    "data_path = os.path.join(BASE_PATH, 'inputs')\n",
    "\n",
    "# Create the temporary folder\n",
    "# tmpd = tempfile.mkdtemp()\n",
    "tmpd = os.path.join(BASE_PATH, 'temp')\n",
    "\n",
    "# Update settings\n",
    "# Use toml.load and toml dump to ensure that Windows paths\n",
    "# are escaped correctly and the resulting TOML file is valid\n",
    "td = toml.loads(SETTINGS_GLOBAL)\n",
    "td[\"general\"][\"output_path\"] = tmpd\n",
    "td[\"general\"][\"log_file\"] = os.path.join(tmpd, \"log.txt\")\n",
    "td[\"general\"][\"region_shp\"] = \\\n",
    "    os.path.join(data_path, \"shp\", \"PH-extents.shp\")\n",
    "td[\"catalogues\"][0][\"filename\"] = \\\n",
    "    os.path.join(data_path, \"1900-1999-PH_ISF_Catalogue.isf\")\n",
    "td[\"catalogues\"][1][\"filename\"] = \\\n",
    "    os.path.join(data_path, \"2000-2009-PH_ISF_Catalogue.isf\")\n",
    "# td[\"catalogues\"][2][\"filename\"] = \\\n",
    "#     os.path.join(data_path, \"2010-2014-PH_ISF_Catalogue.isf\")\n",
    "# td[\"catalogues\"][3][\"filename\"] = \\\n",
    "#     os.path.join(data_path, \"2015-2021-PH_ISF_Catalogue.isf\")\n",
    "\n",
    "# Create settings file\n",
    "settings = os.path.join(tmpd, \"settings.toml\")\n",
    "with open(settings, \"w\") as fou:\n",
    "    toml.dump(td, fou)"
   ]
  },
  {
   "cell_type": "code",
   "execution_count": null,
   "metadata": {},
   "outputs": [
    {
     "name": "stdout",
     "output_type": "stream",
     "text": [
      "c:\\Users\\enrico.abcede\\Desktop\\catalogue\\Catalog-Compile\\git-notebooks\\temp\\settings.toml\n"
     ]
    }
   ],
   "source": [
    "\"\"\"Merging ISF catalogue\"\"\"\n",
    "\n",
    "# Read the ISF formatted file\n",
    "print(settings)\n",
    "\n",
    "# Merge\n",
    "merge.process_catalogues(settings)\n",
    "\n",
    "# Reading catalogue\n",
    "fname = os.path.join(tmpd, \"merged_otab.h5\")\n",
    "odf = pd.read_hdf(fname)\n",
    "# Check prime events\n",
    "# expected = [1, 0, 1, 1, 0, 0, 1, 1, 0, 1, 1, 0, 1, 1]\n",
    "# aeq(odf.prime.to_numpy(), expected)"
   ]
  }
 ],
 "metadata": {
  "kernelspec": {
   "display_name": "Python 3",
   "language": "python",
   "name": "python3"
  },
  "language_info": {
   "codemirror_mode": {
    "name": "ipython",
    "version": 3
   },
   "file_extension": ".py",
   "mimetype": "text/x-python",
   "name": "python",
   "nbconvert_exporter": "python",
   "pygments_lexer": "ipython3",
   "version": "3.10.12"
  },
  "orig_nbformat": 4
 },
 "nbformat": 4,
 "nbformat_minor": 2
}
