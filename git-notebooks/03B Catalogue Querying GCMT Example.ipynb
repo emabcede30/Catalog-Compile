{
 "cells": [
  {
   "cell_type": "markdown",
   "metadata": {},
   "source": [
    "# Catalogue Query Tools"
   ]
  },
  {
   "cell_type": "markdown",
   "metadata": {},
   "source": [
    "This notebook provides examples on how to use the Catalogue Toolkit to build and explore a catalogue database:"
   ]
  },
  {
   "cell_type": "code",
   "execution_count": 5,
   "metadata": {},
   "outputs": [],
   "source": [
    "%matplotlib inline\n",
    "import os, sys\n",
    "import numpy as np\n",
    "import matplotlib.pyplot as plt\n",
    "from openquake.cat.parsers.isf_catalogue_reader import ISFReader\n",
    "import openquake.cat.catalogue_query_tools as cqt\n",
    "from openquake.cat.parsers.converters import (GenericCataloguetoISFParser, GCMTtoISFParser)"
   ]
  },
  {
   "cell_type": "markdown",
   "metadata": {},
   "source": [
    "## Constructing the Database"
   ]
  },
  {
   "cell_type": "code",
   "execution_count": 6,
   "metadata": {},
   "outputs": [
    {
     "name": "stdout",
     "output_type": "stream",
     "text": [
      "Parsing catalogue ...\n",
      "complete. Contains 56832 moment tensors\n",
      "Catalogue contains: 56832 events\n"
     ]
    }
   ],
   "source": [
    "# Read in the catalogue\n",
    "catalogue1 = GCMTtoISFParser(\"inputs/gcmt-cat-1976-2020.txt\").parse()\n",
    "print(\"Catalogue contains: %d events\" % catalogue1.get_number_events())"
   ]
  },
  {
   "cell_type": "code",
   "execution_count": 7,
   "metadata": {},
   "outputs": [
    {
     "name": "stderr",
     "output_type": "stream",
     "text": [
      "C:\\Users\\enrico.abcede\\Desktop\\catalogue\\oq-mbtk-repo\\oq-mbtk\\openquake\\cat\\isf_catalogue.py:1212: UserWarning: Warning, depth <= 0.0 (id:GCMT_010281)\n",
      "  warnings.warn(fmt.format(eq.id))\n",
      "C:\\Users\\enrico.abcede\\Desktop\\catalogue\\oq-mbtk-repo\\oq-mbtk\\openquake\\cat\\isf_catalogue.py:1212: UserWarning: Warning, depth <= 0.0 (id:GCMT_011440)\n",
      "  warnings.warn(fmt.format(eq.id))\n",
      "C:\\Users\\enrico.abcede\\Desktop\\catalogue\\oq-mbtk-repo\\oq-mbtk\\openquake\\cat\\isf_catalogue.py:1212: UserWarning: Warning, depth <= 0.0 (id:GCMT_012992)\n",
      "  warnings.warn(fmt.format(eq.id))\n",
      "C:\\Users\\enrico.abcede\\Desktop\\catalogue\\oq-mbtk-repo\\oq-mbtk\\openquake\\cat\\isf_catalogue.py:1212: UserWarning: Warning, depth <= 0.0 (id:GCMT_012995)\n",
      "  warnings.warn(fmt.format(eq.id))\n",
      "C:\\Users\\enrico.abcede\\Desktop\\catalogue\\oq-mbtk-repo\\oq-mbtk\\openquake\\cat\\isf_catalogue.py:1212: UserWarning: Warning, depth <= 0.0 (id:GCMT_012996)\n",
      "  warnings.warn(fmt.format(eq.id))\n",
      "C:\\Users\\enrico.abcede\\Desktop\\catalogue\\oq-mbtk-repo\\oq-mbtk\\openquake\\cat\\isf_catalogue.py:1212: UserWarning: Warning, depth <= 0.0 (id:GCMT_012997)\n",
      "  warnings.warn(fmt.format(eq.id))\n",
      "C:\\Users\\enrico.abcede\\Desktop\\catalogue\\oq-mbtk-repo\\oq-mbtk\\openquake\\cat\\isf_catalogue.py:1212: UserWarning: Warning, depth <= 0.0 (id:GCMT_012998)\n",
      "  warnings.warn(fmt.format(eq.id))\n",
      "C:\\Users\\enrico.abcede\\Desktop\\catalogue\\oq-mbtk-repo\\oq-mbtk\\openquake\\cat\\isf_catalogue.py:1212: UserWarning: Warning, depth <= 0.0 (id:GCMT_013000)\n",
      "  warnings.warn(fmt.format(eq.id))\n",
      "C:\\Users\\enrico.abcede\\Desktop\\catalogue\\oq-mbtk-repo\\oq-mbtk\\openquake\\cat\\isf_catalogue.py:1212: UserWarning: Warning, depth <= 0.0 (id:GCMT_013001)\n",
      "  warnings.warn(fmt.format(eq.id))\n",
      "C:\\Users\\enrico.abcede\\Desktop\\catalogue\\oq-mbtk-repo\\oq-mbtk\\openquake\\cat\\isf_catalogue.py:1212: UserWarning: Warning, depth <= 0.0 (id:GCMT_013003)\n",
      "  warnings.warn(fmt.format(eq.id))\n",
      "C:\\Users\\enrico.abcede\\Desktop\\catalogue\\oq-mbtk-repo\\oq-mbtk\\openquake\\cat\\isf_catalogue.py:1212: UserWarning: Warning, depth <= 0.0 (id:GCMT_013072)\n",
      "  warnings.warn(fmt.format(eq.id))\n",
      "C:\\Users\\enrico.abcede\\Desktop\\catalogue\\oq-mbtk-repo\\oq-mbtk\\openquake\\cat\\isf_catalogue.py:1212: UserWarning: Warning, depth <= 0.0 (id:GCMT_013076)\n",
      "  warnings.warn(fmt.format(eq.id))\n",
      "C:\\Users\\enrico.abcede\\Desktop\\catalogue\\oq-mbtk-repo\\oq-mbtk\\openquake\\cat\\isf_catalogue.py:1212: UserWarning: Warning, depth <= 0.0 (id:GCMT_013078)\n",
      "  warnings.warn(fmt.format(eq.id))\n",
      "C:\\Users\\enrico.abcede\\Desktop\\catalogue\\oq-mbtk-repo\\oq-mbtk\\openquake\\cat\\isf_catalogue.py:1212: UserWarning: Warning, depth <= 0.0 (id:GCMT_013079)\n",
      "  warnings.warn(fmt.format(eq.id))\n",
      "C:\\Users\\enrico.abcede\\Desktop\\catalogue\\oq-mbtk-repo\\oq-mbtk\\openquake\\cat\\isf_catalogue.py:1212: UserWarning: Warning, depth <= 0.0 (id:GCMT_013081)\n",
      "  warnings.warn(fmt.format(eq.id))\n",
      "C:\\Users\\enrico.abcede\\Desktop\\catalogue\\oq-mbtk-repo\\oq-mbtk\\openquake\\cat\\isf_catalogue.py:1212: UserWarning: Warning, depth <= 0.0 (id:GCMT_013083)\n",
      "  warnings.warn(fmt.format(eq.id))\n",
      "C:\\Users\\enrico.abcede\\Desktop\\catalogue\\oq-mbtk-repo\\oq-mbtk\\openquake\\cat\\isf_catalogue.py:1212: UserWarning: Warning, depth <= 0.0 (id:GCMT_013084)\n",
      "  warnings.warn(fmt.format(eq.id))\n",
      "C:\\Users\\enrico.abcede\\Desktop\\catalogue\\oq-mbtk-repo\\oq-mbtk\\openquake\\cat\\isf_catalogue.py:1212: UserWarning: Warning, depth <= 0.0 (id:GCMT_013094)\n",
      "  warnings.warn(fmt.format(eq.id))\n",
      "C:\\Users\\enrico.abcede\\Desktop\\catalogue\\oq-mbtk-repo\\oq-mbtk\\openquake\\cat\\isf_catalogue.py:1212: UserWarning: Warning, depth <= 0.0 (id:GCMT_013095)\n",
      "  warnings.warn(fmt.format(eq.id))\n",
      "C:\\Users\\enrico.abcede\\Desktop\\catalogue\\oq-mbtk-repo\\oq-mbtk\\openquake\\cat\\isf_catalogue.py:1212: UserWarning: Warning, depth <= 0.0 (id:GCMT_013096)\n",
      "  warnings.warn(fmt.format(eq.id))\n",
      "C:\\Users\\enrico.abcede\\Desktop\\catalogue\\oq-mbtk-repo\\oq-mbtk\\openquake\\cat\\isf_catalogue.py:1212: UserWarning: Warning, depth <= 0.0 (id:GCMT_013097)\n",
      "  warnings.warn(fmt.format(eq.id))\n",
      "C:\\Users\\enrico.abcede\\Desktop\\catalogue\\oq-mbtk-repo\\oq-mbtk\\openquake\\cat\\isf_catalogue.py:1212: UserWarning: Warning, depth <= 0.0 (id:GCMT_013098)\n",
      "  warnings.warn(fmt.format(eq.id))\n",
      "C:\\Users\\enrico.abcede\\Desktop\\catalogue\\oq-mbtk-repo\\oq-mbtk\\openquake\\cat\\isf_catalogue.py:1212: UserWarning: Warning, depth <= 0.0 (id:GCMT_013100)\n",
      "  warnings.warn(fmt.format(eq.id))\n",
      "C:\\Users\\enrico.abcede\\Desktop\\catalogue\\oq-mbtk-repo\\oq-mbtk\\openquake\\cat\\isf_catalogue.py:1212: UserWarning: Warning, depth <= 0.0 (id:GCMT_013101)\n",
      "  warnings.warn(fmt.format(eq.id))\n",
      "C:\\Users\\enrico.abcede\\Desktop\\catalogue\\oq-mbtk-repo\\oq-mbtk\\openquake\\cat\\isf_catalogue.py:1212: UserWarning: Warning, depth <= 0.0 (id:GCMT_013103)\n",
      "  warnings.warn(fmt.format(eq.id))\n",
      "C:\\Users\\enrico.abcede\\Desktop\\catalogue\\oq-mbtk-repo\\oq-mbtk\\openquake\\cat\\isf_catalogue.py:1212: UserWarning: Warning, depth <= 0.0 (id:GCMT_013104)\n",
      "  warnings.warn(fmt.format(eq.id))\n",
      "C:\\Users\\enrico.abcede\\Desktop\\catalogue\\oq-mbtk-repo\\oq-mbtk\\openquake\\cat\\isf_catalogue.py:1212: UserWarning: Warning, depth <= 0.0 (id:GCMT_013106)\n",
      "  warnings.warn(fmt.format(eq.id))\n",
      "C:\\Users\\enrico.abcede\\Desktop\\catalogue\\oq-mbtk-repo\\oq-mbtk\\openquake\\cat\\isf_catalogue.py:1212: UserWarning: Warning, depth <= 0.0 (id:GCMT_013107)\n",
      "  warnings.warn(fmt.format(eq.id))\n",
      "C:\\Users\\enrico.abcede\\Desktop\\catalogue\\oq-mbtk-repo\\oq-mbtk\\openquake\\cat\\isf_catalogue.py:1212: UserWarning: Warning, depth <= 0.0 (id:GCMT_013108)\n",
      "  warnings.warn(fmt.format(eq.id))\n",
      "C:\\Users\\enrico.abcede\\Desktop\\catalogue\\oq-mbtk-repo\\oq-mbtk\\openquake\\cat\\isf_catalogue.py:1212: UserWarning: Warning, depth <= 0.0 (id:GCMT_013111)\n",
      "  warnings.warn(fmt.format(eq.id))\n",
      "C:\\Users\\enrico.abcede\\Desktop\\catalogue\\oq-mbtk-repo\\oq-mbtk\\openquake\\cat\\isf_catalogue.py:1212: UserWarning: Warning, depth <= 0.0 (id:GCMT_013112)\n",
      "  warnings.warn(fmt.format(eq.id))\n",
      "C:\\Users\\enrico.abcede\\Desktop\\catalogue\\oq-mbtk-repo\\oq-mbtk\\openquake\\cat\\isf_catalogue.py:1212: UserWarning: Warning, depth <= 0.0 (id:GCMT_013113)\n",
      "  warnings.warn(fmt.format(eq.id))\n",
      "C:\\Users\\enrico.abcede\\Desktop\\catalogue\\oq-mbtk-repo\\oq-mbtk\\openquake\\cat\\isf_catalogue.py:1212: UserWarning: Warning, depth <= 0.0 (id:GCMT_015161)\n",
      "  warnings.warn(fmt.format(eq.id))\n",
      "C:\\Users\\enrico.abcede\\Desktop\\catalogue\\oq-mbtk-repo\\oq-mbtk\\openquake\\cat\\isf_catalogue.py:1212: UserWarning: Warning, depth <= 0.0 (id:GCMT_015162)\n",
      "  warnings.warn(fmt.format(eq.id))\n",
      "C:\\Users\\enrico.abcede\\Desktop\\catalogue\\oq-mbtk-repo\\oq-mbtk\\openquake\\cat\\isf_catalogue.py:1212: UserWarning: Warning, depth <= 0.0 (id:GCMT_015164)\n",
      "  warnings.warn(fmt.format(eq.id))\n",
      "C:\\Users\\enrico.abcede\\Desktop\\catalogue\\oq-mbtk-repo\\oq-mbtk\\openquake\\cat\\isf_catalogue.py:1212: UserWarning: Warning, depth <= 0.0 (id:GCMT_016486)\n",
      "  warnings.warn(fmt.format(eq.id))\n",
      "C:\\Users\\enrico.abcede\\Desktop\\catalogue\\oq-mbtk-repo\\oq-mbtk\\openquake\\cat\\isf_catalogue.py:1212: UserWarning: Warning, depth <= 0.0 (id:GCMT_017099)\n",
      "  warnings.warn(fmt.format(eq.id))\n",
      "C:\\Users\\enrico.abcede\\Desktop\\catalogue\\oq-mbtk-repo\\oq-mbtk\\openquake\\cat\\isf_catalogue.py:1212: UserWarning: Warning, depth <= 0.0 (id:GCMT_019265)\n",
      "  warnings.warn(fmt.format(eq.id))\n",
      "C:\\Users\\enrico.abcede\\Desktop\\catalogue\\oq-mbtk-repo\\oq-mbtk\\openquake\\cat\\isf_catalogue.py:1212: UserWarning: Warning, depth <= 0.0 (id:GCMT_019684)\n",
      "  warnings.warn(fmt.format(eq.id))\n",
      "C:\\Users\\enrico.abcede\\Desktop\\catalogue\\oq-mbtk-repo\\oq-mbtk\\openquake\\cat\\isf_catalogue.py:1212: UserWarning: Warning, depth <= 0.0 (id:GCMT_021077)\n",
      "  warnings.warn(fmt.format(eq.id))\n",
      "C:\\Users\\enrico.abcede\\Desktop\\catalogue\\oq-mbtk-repo\\oq-mbtk\\openquake\\cat\\isf_catalogue.py:1212: UserWarning: Warning, depth <= 0.0 (id:GCMT_021132)\n",
      "  warnings.warn(fmt.format(eq.id))\n",
      "C:\\Users\\enrico.abcede\\Desktop\\catalogue\\oq-mbtk-repo\\oq-mbtk\\openquake\\cat\\isf_catalogue.py:1212: UserWarning: Warning, depth <= 0.0 (id:GCMT_025810)\n",
      "  warnings.warn(fmt.format(eq.id))\n",
      "C:\\Users\\enrico.abcede\\Desktop\\catalogue\\oq-mbtk-repo\\oq-mbtk\\openquake\\cat\\isf_catalogue.py:1212: UserWarning: Warning, depth <= 0.0 (id:GCMT_026805)\n",
      "  warnings.warn(fmt.format(eq.id))\n",
      "C:\\Users\\enrico.abcede\\Desktop\\catalogue\\oq-mbtk-repo\\oq-mbtk\\openquake\\cat\\isf_catalogue.py:1212: UserWarning: Warning, depth <= 0.0 (id:GCMT_027331)\n",
      "  warnings.warn(fmt.format(eq.id))\n",
      "C:\\Users\\enrico.abcede\\Desktop\\catalogue\\oq-mbtk-repo\\oq-mbtk\\openquake\\cat\\isf_catalogue.py:1212: UserWarning: Warning, depth <= 0.0 (id:GCMT_027435)\n",
      "  warnings.warn(fmt.format(eq.id))\n",
      "C:\\Users\\enrico.abcede\\Desktop\\catalogue\\oq-mbtk-repo\\oq-mbtk\\openquake\\cat\\isf_catalogue.py:1212: UserWarning: Warning, depth <= 0.0 (id:GCMT_031544)\n",
      "  warnings.warn(fmt.format(eq.id))\n",
      "C:\\Users\\enrico.abcede\\Desktop\\catalogue\\oq-mbtk-repo\\oq-mbtk\\openquake\\cat\\isf_catalogue.py:1212: UserWarning: Warning, depth <= 0.0 (id:GCMT_035359)\n",
      "  warnings.warn(fmt.format(eq.id))\n",
      "C:\\Users\\enrico.abcede\\Desktop\\catalogue\\oq-mbtk-repo\\oq-mbtk\\openquake\\cat\\isf_catalogue.py:1212: UserWarning: Warning, depth <= 0.0 (id:GCMT_036751)\n",
      "  warnings.warn(fmt.format(eq.id))\n",
      "C:\\Users\\enrico.abcede\\Desktop\\catalogue\\oq-mbtk-repo\\oq-mbtk\\openquake\\cat\\isf_catalogue.py:1212: UserWarning: Warning, depth <= 0.0 (id:GCMT_038166)\n",
      "  warnings.warn(fmt.format(eq.id))\n",
      "C:\\Users\\enrico.abcede\\Desktop\\catalogue\\oq-mbtk-repo\\oq-mbtk\\openquake\\cat\\isf_catalogue.py:1212: UserWarning: Warning, depth <= 0.0 (id:GCMT_039373)\n",
      "  warnings.warn(fmt.format(eq.id))\n",
      "C:\\Users\\enrico.abcede\\Desktop\\catalogue\\oq-mbtk-repo\\oq-mbtk\\openquake\\cat\\isf_catalogue.py:1212: UserWarning: Warning, depth <= 0.0 (id:GCMT_039676)\n",
      "  warnings.warn(fmt.format(eq.id))\n",
      "C:\\Users\\enrico.abcede\\Desktop\\catalogue\\oq-mbtk-repo\\oq-mbtk\\openquake\\cat\\isf_catalogue.py:1212: UserWarning: Warning, depth <= 0.0 (id:GCMT_039775)\n",
      "  warnings.warn(fmt.format(eq.id))\n",
      "C:\\Users\\enrico.abcede\\Desktop\\catalogue\\oq-mbtk-repo\\oq-mbtk\\openquake\\cat\\isf_catalogue.py:1212: UserWarning: Warning, depth <= 0.0 (id:GCMT_039917)\n",
      "  warnings.warn(fmt.format(eq.id))\n",
      "C:\\Users\\enrico.abcede\\Desktop\\catalogue\\oq-mbtk-repo\\oq-mbtk\\openquake\\cat\\isf_catalogue.py:1212: UserWarning: Warning, depth <= 0.0 (id:GCMT_040572)\n",
      "  warnings.warn(fmt.format(eq.id))\n",
      "C:\\Users\\enrico.abcede\\Desktop\\catalogue\\oq-mbtk-repo\\oq-mbtk\\openquake\\cat\\isf_catalogue.py:1212: UserWarning: Warning, depth <= 0.0 (id:GCMT_042082)\n",
      "  warnings.warn(fmt.format(eq.id))\n",
      "C:\\Users\\enrico.abcede\\Desktop\\catalogue\\oq-mbtk-repo\\oq-mbtk\\openquake\\cat\\isf_catalogue.py:1212: UserWarning: Warning, depth <= 0.0 (id:GCMT_042619)\n",
      "  warnings.warn(fmt.format(eq.id))\n",
      "C:\\Users\\enrico.abcede\\Desktop\\catalogue\\oq-mbtk-repo\\oq-mbtk\\openquake\\cat\\isf_catalogue.py:1212: UserWarning: Warning, depth <= 0.0 (id:GCMT_042882)\n",
      "  warnings.warn(fmt.format(eq.id))\n",
      "C:\\Users\\enrico.abcede\\Desktop\\catalogue\\oq-mbtk-repo\\oq-mbtk\\openquake\\cat\\isf_catalogue.py:1212: UserWarning: Warning, depth <= 0.0 (id:GCMT_045401)\n",
      "  warnings.warn(fmt.format(eq.id))\n",
      "C:\\Users\\enrico.abcede\\Desktop\\catalogue\\oq-mbtk-repo\\oq-mbtk\\openquake\\cat\\isf_catalogue.py:1212: UserWarning: Warning, depth <= 0.0 (id:GCMT_045532)\n",
      "  warnings.warn(fmt.format(eq.id))\n",
      "C:\\Users\\enrico.abcede\\Desktop\\catalogue\\oq-mbtk-repo\\oq-mbtk\\openquake\\cat\\isf_catalogue.py:1212: UserWarning: Warning, depth <= 0.0 (id:GCMT_045542)\n",
      "  warnings.warn(fmt.format(eq.id))\n",
      "C:\\Users\\enrico.abcede\\Desktop\\catalogue\\oq-mbtk-repo\\oq-mbtk\\openquake\\cat\\isf_catalogue.py:1212: UserWarning: Warning, depth <= 0.0 (id:GCMT_046256)\n",
      "  warnings.warn(fmt.format(eq.id))\n",
      "C:\\Users\\enrico.abcede\\Desktop\\catalogue\\oq-mbtk-repo\\oq-mbtk\\openquake\\cat\\isf_catalogue.py:1212: UserWarning: Warning, depth <= 0.0 (id:GCMT_050413)\n",
      "  warnings.warn(fmt.format(eq.id))\n",
      "C:\\Users\\enrico.abcede\\Desktop\\catalogue\\oq-mbtk-repo\\oq-mbtk\\openquake\\cat\\isf_catalogue.py:1212: UserWarning: Warning, depth <= 0.0 (id:GCMT_050438)\n",
      "  warnings.warn(fmt.format(eq.id))\n",
      "C:\\Users\\enrico.abcede\\Desktop\\catalogue\\oq-mbtk-repo\\oq-mbtk\\openquake\\cat\\isf_catalogue.py:1212: UserWarning: Warning, depth <= 0.0 (id:GCMT_050441)\n",
      "  warnings.warn(fmt.format(eq.id))\n",
      "C:\\Users\\enrico.abcede\\Desktop\\catalogue\\oq-mbtk-repo\\oq-mbtk\\openquake\\cat\\isf_catalogue.py:1212: UserWarning: Warning, depth <= 0.0 (id:GCMT_050446)\n",
      "  warnings.warn(fmt.format(eq.id))\n",
      "C:\\Users\\enrico.abcede\\Desktop\\catalogue\\oq-mbtk-repo\\oq-mbtk\\openquake\\cat\\isf_catalogue.py:1212: UserWarning: Warning, depth <= 0.0 (id:GCMT_050451)\n",
      "  warnings.warn(fmt.format(eq.id))\n",
      "C:\\Users\\enrico.abcede\\Desktop\\catalogue\\oq-mbtk-repo\\oq-mbtk\\openquake\\cat\\isf_catalogue.py:1212: UserWarning: Warning, depth <= 0.0 (id:GCMT_050459)\n",
      "  warnings.warn(fmt.format(eq.id))\n",
      "C:\\Users\\enrico.abcede\\Desktop\\catalogue\\oq-mbtk-repo\\oq-mbtk\\openquake\\cat\\isf_catalogue.py:1212: UserWarning: Warning, depth <= 0.0 (id:GCMT_050463)\n",
      "  warnings.warn(fmt.format(eq.id))\n",
      "C:\\Users\\enrico.abcede\\Desktop\\catalogue\\oq-mbtk-repo\\oq-mbtk\\openquake\\cat\\isf_catalogue.py:1212: UserWarning: Warning, depth <= 0.0 (id:GCMT_050476)\n",
      "  warnings.warn(fmt.format(eq.id))\n",
      "C:\\Users\\enrico.abcede\\Desktop\\catalogue\\oq-mbtk-repo\\oq-mbtk\\openquake\\cat\\isf_catalogue.py:1212: UserWarning: Warning, depth <= 0.0 (id:GCMT_050479)\n",
      "  warnings.warn(fmt.format(eq.id))\n",
      "C:\\Users\\enrico.abcede\\Desktop\\catalogue\\oq-mbtk-repo\\oq-mbtk\\openquake\\cat\\isf_catalogue.py:1212: UserWarning: Warning, depth <= 0.0 (id:GCMT_050497)\n",
      "  warnings.warn(fmt.format(eq.id))\n",
      "C:\\Users\\enrico.abcede\\Desktop\\catalogue\\oq-mbtk-repo\\oq-mbtk\\openquake\\cat\\isf_catalogue.py:1212: UserWarning: Warning, depth <= 0.0 (id:GCMT_050503)\n",
      "  warnings.warn(fmt.format(eq.id))\n",
      "C:\\Users\\enrico.abcede\\Desktop\\catalogue\\oq-mbtk-repo\\oq-mbtk\\openquake\\cat\\isf_catalogue.py:1212: UserWarning: Warning, depth <= 0.0 (id:GCMT_050535)\n",
      "  warnings.warn(fmt.format(eq.id))\n",
      "C:\\Users\\enrico.abcede\\Desktop\\catalogue\\oq-mbtk-repo\\oq-mbtk\\openquake\\cat\\isf_catalogue.py:1212: UserWarning: Warning, depth <= 0.0 (id:GCMT_050547)\n",
      "  warnings.warn(fmt.format(eq.id))\n",
      "C:\\Users\\enrico.abcede\\Desktop\\catalogue\\oq-mbtk-repo\\oq-mbtk\\openquake\\cat\\isf_catalogue.py:1212: UserWarning: Warning, depth <= 0.0 (id:GCMT_050557)\n",
      "  warnings.warn(fmt.format(eq.id))\n",
      "C:\\Users\\enrico.abcede\\Desktop\\catalogue\\oq-mbtk-repo\\oq-mbtk\\openquake\\cat\\isf_catalogue.py:1212: UserWarning: Warning, depth <= 0.0 (id:GCMT_050659)\n",
      "  warnings.warn(fmt.format(eq.id))\n",
      "C:\\Users\\enrico.abcede\\Desktop\\catalogue\\oq-mbtk-repo\\oq-mbtk\\openquake\\cat\\isf_catalogue.py:1212: UserWarning: Warning, depth <= 0.0 (id:GCMT_050704)\n",
      "  warnings.warn(fmt.format(eq.id))\n",
      "C:\\Users\\enrico.abcede\\Desktop\\catalogue\\oq-mbtk-repo\\oq-mbtk\\openquake\\cat\\isf_catalogue.py:1212: UserWarning: Warning, depth <= 0.0 (id:GCMT_050730)\n",
      "  warnings.warn(fmt.format(eq.id))\n",
      "C:\\Users\\enrico.abcede\\Desktop\\catalogue\\oq-mbtk-repo\\oq-mbtk\\openquake\\cat\\isf_catalogue.py:1212: UserWarning: Warning, depth <= 0.0 (id:GCMT_050757)\n",
      "  warnings.warn(fmt.format(eq.id))\n",
      "C:\\Users\\enrico.abcede\\Desktop\\catalogue\\oq-mbtk-repo\\oq-mbtk\\openquake\\cat\\isf_catalogue.py:1212: UserWarning: Warning, depth <= 0.0 (id:GCMT_050762)\n",
      "  warnings.warn(fmt.format(eq.id))\n",
      "C:\\Users\\enrico.abcede\\Desktop\\catalogue\\oq-mbtk-repo\\oq-mbtk\\openquake\\cat\\isf_catalogue.py:1212: UserWarning: Warning, depth <= 0.0 (id:GCMT_050839)\n",
      "  warnings.warn(fmt.format(eq.id))\n"
     ]
    }
   ],
   "source": [
    "# Build the HDF5 Database\n",
    "database_file = \"outputs/gcmt_catalogue_db1.hdf5\"\n",
    "if os.path.exists(database_file):\n",
    "    os.remove(database_file)\n",
    "_ = catalogue1.build_dataframe(hdf5_file=database_file)"
   ]
  },
  {
   "cell_type": "markdown",
   "metadata": {},
   "source": [
    "## Using the Database"
   ]
  },
  {
   "cell_type": "code",
   "execution_count": 8,
   "metadata": {},
   "outputs": [],
   "source": [
    "db1 = cqt.CatalogueDB(database_file)"
   ]
  },
  {
   "cell_type": "markdown",
   "metadata": {},
   "source": [
    "### Apply Limiting Selections"
   ]
  },
  {
   "cell_type": "markdown",
   "metadata": {},
   "source": [
    "#### By Bounding Box"
   ]
  },
  {
   "cell_type": "code",
   "execution_count": 19,
   "metadata": {},
   "outputs": [],
   "source": [
    "lower_lon = 1.89\n",
    "upper_lon = \n",
    "lower_lat = 15\n",
    "upper_lat = 30\n",
    "bbox = [lower_lon, upper_lon, lower_lat, upper_lat]\n",
    "selector = cqt.CatalogueSelector(db1)\n",
    "aegean_cat = selector.select_within_bounding_box(bbox)"
   ]
  },
  {
   "cell_type": "code",
   "execution_count": 20,
   "metadata": {},
   "outputs": [
    {
     "name": "stdout",
     "output_type": "stream",
     "text": [
      "Number of Origins = 550, Number of Magnitudes = 679\n"
     ]
    }
   ],
   "source": [
    "number_origins, number_magnitudes = aegean_cat._get_number_origins_magnitudes()\n",
    "print(\"Number of Origins = %d, Number of Magnitudes = %d\" % (number_origins,\n",
    "                                                             number_magnitudes))"
   ]
  },
  {
   "cell_type": "markdown",
   "metadata": {},
   "source": [
    "#### By Polygon"
   ]
  },
  {
   "cell_type": "code",
   "execution_count": 11,
   "metadata": {},
   "outputs": [
    {
     "name": "stdout",
     "output_type": "stream",
     "text": [
      "Number of Origins = 1464, Number of Magnitudes = 1844\n"
     ]
    }
   ],
   "source": [
    "polygon = np.array([[15.0, 45.0],\n",
    "                    [30.0, 45.0],\n",
    "                    [30.0, 30.0],\n",
    "                    [15.0, 30.0],\n",
    "                    [15.0, 45.0]])\n",
    "selector2 = cqt.CatalogueSelector(db1)\n",
    "aegean_cat_alt = selector2.select_within_polygon(polygon[:, 0], polygon[:, 1])\n",
    "number_origins, number_magnitudes = aegean_cat_alt._get_number_origins_magnitudes()\n",
    "print(\"Number of Origins = %d, Number of Magnitudes = %d\" % (number_origins,\n",
    "                                                             number_magnitudes))"
   ]
  },
  {
   "cell_type": "markdown",
   "metadata": {},
   "source": [
    "#### By Magnitude"
   ]
  },
  {
   "cell_type": "code",
   "execution_count": null,
   "metadata": {},
   "outputs": [],
   "source": [
    "# Above magnitude 6.0\n",
    "selector3 = cqt.CatalogueSelector(aegean_cat)\n",
    "aegean_cat_m6 = selector3.select_within_magnitude_range(lower_mag=6.0, upper_mag=9.0)\n",
    "number_origins, number_magnitudes = aegean_cat_m6._get_number_origins_magnitudes()\n",
    "print(\"Number of Origins = %d, Number of Magnitudes = %d\" % (number_origins,\n",
    "                                                             number_magnitudes))"
   ]
  },
  {
   "cell_type": "markdown",
   "metadata": {},
   "source": [
    "#### By Depth"
   ]
  },
  {
   "cell_type": "code",
   "execution_count": null,
   "metadata": {},
   "outputs": [],
   "source": [
    "selector4 = cqt.CatalogueSelector(aegean_cat_alt)\n",
    "aegean_cat_deep = selector4.select_within_depth_range(upper_depth=50.0, lower_depth=200.0)\n",
    "number_origins, number_magnitudes = aegean_cat_deep._get_number_origins_magnitudes()\n",
    "print(\"Number of Origins = %d, Number of Magnitudes = %d\" % (number_origins,\n",
    "                                                             number_magnitudes))"
   ]
  },
  {
   "cell_type": "markdown",
   "metadata": {},
   "source": [
    "## Exploring the Catalogue Database"
   ]
  },
  {
   "cell_type": "markdown",
   "metadata": {},
   "source": [
    "### See Summary of Agencies and Magnitudes in the Catalogue"
   ]
  },
  {
   "cell_type": "code",
   "execution_count": null,
   "metadata": {
    "scrolled": false
   },
   "outputs": [],
   "source": [
    "agency_count = cqt.get_agency_magtype_statistics(db1)"
   ]
  },
  {
   "cell_type": "markdown",
   "metadata": {},
   "source": [
    "### Search for a Specific Agency-Magnitude Combination"
   ]
  },
  {
   "cell_type": "markdown",
   "metadata": {},
   "source": [
    "Search for body-wave magnitude common to 'BJI' and 'ISC'"
   ]
  },
  {
   "cell_type": "code",
   "execution_count": null,
   "metadata": {},
   "outputs": [],
   "source": [
    "query_NEIC_GCMT_mw, NEIC_GCMT_mw_cat = cqt.get_agency_magnitude_pairs(db1, (\"NEIC\", \"Mw\"), (\"GCMT\", \"Mw\"), no_case=True)"
   ]
  },
  {
   "cell_type": "code",
   "execution_count": null,
   "metadata": {},
   "outputs": [],
   "source": [
    "query_NEIC_GCMT_mw"
   ]
  },
  {
   "cell_type": "code",
   "execution_count": null,
   "metadata": {},
   "outputs": [],
   "source": [
    "_ = cqt.plot_agency_magnitude_density(query_NEIC_GCMT_mw)"
   ]
  },
  {
   "cell_type": "markdown",
   "metadata": {},
   "source": [
    "### Join Query Results"
   ]
  },
  {
   "cell_type": "markdown",
   "metadata": {},
   "source": [
    "Join together the results of two queries. For example the Global CMT magnitudes are reported under either\n",
    "'GCMT' or 'HRVD'. So search for both terms"
   ]
  },
  {
   "cell_type": "code",
   "execution_count": null,
   "metadata": {},
   "outputs": [],
   "source": [
    "query1, cat1 = cqt.get_agency_magnitude_pairs(db1, (\"GCMT\", \"Mw\"), (\"NEIC\", \"Ms\"), no_case=True)\n",
    "query2, cat2 = cqt.get_agency_magnitude_pairs(db1, (\"GCMT\", \"Mw\"), (\"NEIS\", \"Mw\"), no_case=True)\n",
    "query_niec_gcmt_ms = cqt.join_query_results(query1, query2)"
   ]
  },
  {
   "cell_type": "code",
   "execution_count": null,
   "metadata": {},
   "outputs": [],
   "source": [
    "_ = cqt.plot_agency_magnitude_density(query_niec_gcmt_ms)"
   ]
  },
  {
   "cell_type": "markdown",
   "metadata": {},
   "source": [
    "## Regression Tools"
   ]
  },
  {
   "cell_type": "markdown",
   "metadata": {},
   "source": [
    "In this example we compare the $M_S$ scale as recorded by the BJI network with the $M_W$ scale reported by\n",
    "HRVD/GCMT (from the previous query)"
   ]
  },
  {
   "cell_type": "markdown",
   "metadata": {},
   "source": [
    "#### Set up the regression"
   ]
  },
  {
   "cell_type": "code",
   "execution_count": null,
   "metadata": {},
   "outputs": [],
   "source": [
    "regressor = cqt.CatalogueRegressor(query_niec_gcmt_ms)\n",
    "regressor.plot_density(overlay=False)"
   ]
  },
  {
   "cell_type": "markdown",
   "metadata": {},
   "source": [
    "#### Apply a Linear Model "
   ]
  },
  {
   "cell_type": "code",
   "execution_count": null,
   "metadata": {},
   "outputs": [],
   "source": [
    "linear_model = regressor.run_regression(\"polynomial\", # Model Type\n",
    "                                        [0., 1.]) # Initial guess of parameters\n",
    "regressor.plot_model_density(False, 0)\n",
    "# View Results\n",
    "print(\"Mw = %.3f + %.3f MS +/- %.3f\" % (regressor.results.beta[0],\n",
    "                                        regressor.results.beta[1],\n",
    "                                        regressor.standard_deviation))"
   ]
  },
  {
   "cell_type": "markdown",
   "metadata": {},
   "source": [
    "#### Overlay another model defined as a Magnitude Conversion Rule"
   ]
  },
  {
   "cell_type": "code",
   "execution_count": null,
   "metadata": {},
   "outputs": [],
   "source": [
    "from openquake.cat.isc_homogenisor import MagnitudeConversionRule\n",
    "# Define empirical model\n",
    "def RandomRule1(magnitude):\n",
    "    return 1.21 + 0.84 * magnitude\n",
    "\n",
    "def RandomRuleSigma(magnitude):\n",
    "    return 0.2\n",
    "# Create Rule\n",
    "rule1 = MagnitudeConversionRule(\"BJI\", \"MS\", RandomRule1, RandomRuleSigma,\n",
    "                                model_name=r\"$M_{W_{GCMT}} = 1.2 + 0.767 M_{S_{BJI}}$\")\n",
    "# Plot the model - with overla set to true\n",
    "regressor.plot_model_density(True, 0)\n",
    "# Overlay the rule and close the figure (overlay set to False)\n",
    "regressor.plot_magnitude_conversion_model(rule1, False, line_color=\"b\")"
   ]
  },
  {
   "cell_type": "markdown",
   "metadata": {},
   "source": [
    "### Apply a Piecewise Linear Model"
   ]
  },
  {
   "cell_type": "code",
   "execution_count": null,
   "metadata": {},
   "outputs": [],
   "source": [
    "initial_guess = [1.0, 1.0, 0.0]  # [slope 1, slope 2, intercept]\n",
    "\n",
    "linear_model = regressor.run_regression(\"2segmentM6.1\", # Model Type\n",
    "                                        initial_guess) # Initial guess of parameters\n",
    "regressor.plot_model_density(False, 0)\n",
    "print(\"Standard Deviation - Segment 1: %.3f, Segment 2: %.3f\" % (regressor.standard_deviation[0],\n",
    "                                                                 regressor.standard_deviation[1]))"
   ]
  },
  {
   "cell_type": "code",
   "execution_count": null,
   "metadata": {},
   "outputs": [],
   "source": []
  }
 ],
 "metadata": {
  "kernelspec": {
   "display_name": "Python 3 (ipykernel)",
   "language": "python",
   "name": "python3"
  },
  "language_info": {
   "codemirror_mode": {
    "name": "ipython",
    "version": 3
   },
   "file_extension": ".py",
   "mimetype": "text/x-python",
   "name": "python",
   "nbconvert_exporter": "python",
   "pygments_lexer": "ipython3",
   "version": "3.10.12"
  }
 },
 "nbformat": 4,
 "nbformat_minor": 1
}
