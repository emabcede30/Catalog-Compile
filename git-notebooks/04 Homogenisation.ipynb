{
 "cells": [
  {
   "cell_type": "code",
   "execution_count": 1,
   "metadata": {},
   "outputs": [],
   "source": [
    "%matplotlib inline\n",
    "import os\n",
    "import numpy as np\n",
    "import matplotlib.pyplot as plt\n",
    "\n",
    "# Import the Parsers\n",
    "from openquake.cat.parsers.isf_catalogue_reader import ISFReader\n",
    "from openquake.cat.parsers.converters import GenericCataloguetoISFParser\n",
    "from openquake.cat.isc_homogenisor import (HomogenisorPreprocessor,\n",
    "                                   DynamicHomogenisor,\n",
    "                                   MagnitudeConversionRule,\n",
    "                                   DuplicateFinder)\n"
   ]
  },
  {
   "cell_type": "markdown",
   "metadata": {},
   "source": [
    "## Load in Catalogue - Limit to ISC, GCMT/HRVD, EHB, NEIC, BJI"
   ]
  },
  {
   "cell_type": "code",
   "execution_count": 2,
   "metadata": {},
   "outputs": [
    {
     "ename": "OSError",
     "evalue": "File inputs/1900-1999-PH_ISF_Catalogue.txt does not exist!",
     "output_type": "error",
     "traceback": [
      "\u001b[1;31m---------------------------------------------------------------------------\u001b[0m",
      "\u001b[1;31mOSError\u001b[0m                                   Traceback (most recent call last)",
      "Cell \u001b[1;32mIn[2], line 13\u001b[0m\n\u001b[0;32m      1\u001b[0m \u001b[39m'''\u001b[39;00m\n\u001b[0;32m      2\u001b[0m \u001b[39mThe ISC catalogue is split into four parts because only 50,000 events at a time can be downloaded.\u001b[39;00m\n\u001b[0;32m      3\u001b[0m \u001b[39mThe first four catalogues are from 1900.01.01 to 2021.06.30 as the ISC Reviewed Catalouge.\u001b[39;00m\n\u001b[1;32m   (...)\u001b[0m\n\u001b[0;32m      9\u001b[0m \n\u001b[0;32m     10\u001b[0m \u001b[39m'''\u001b[39;00m\n\u001b[0;32m     12\u001b[0m \u001b[39m#ISC catalogue from 1900.01.01 to 1999.12.31\u001b[39;00m\n\u001b[1;32m---> 13\u001b[0m isc_parser_1900_1999 \u001b[39m=\u001b[39m ISFReader(\u001b[39m\"\u001b[39;49m\u001b[39minputs/1900-1999-PH_ISF_Catalogue.txt\u001b[39;49m\u001b[39m\"\u001b[39;49m,\n\u001b[0;32m     14\u001b[0m                    selected_origin_agencies\u001b[39m=\u001b[39;49m[\u001b[39m\"\u001b[39;49m\u001b[39mISC-GEM\u001b[39;49m\u001b[39m\"\u001b[39;49m, \u001b[39m\"\u001b[39;49m\u001b[39mISC-EHB\u001b[39;49m\u001b[39m\"\u001b[39;49m, \u001b[39m\"\u001b[39;49m\u001b[39mEHB\u001b[39;49m\u001b[39m\"\u001b[39;49m, \u001b[39m\"\u001b[39;49m\u001b[39mISC\u001b[39;49m\u001b[39m\"\u001b[39;49m, \u001b[39m\"\u001b[39;49m\u001b[39mIDC\u001b[39;49m\u001b[39m\"\u001b[39;49m, \u001b[39m\"\u001b[39;49m\u001b[39mNEIC\u001b[39;49m\u001b[39m\"\u001b[39;49m, \u001b[39m\"\u001b[39;49m\u001b[39mNEIS\u001b[39;49m\u001b[39m\"\u001b[39;49m, \u001b[39m\"\u001b[39;49m\u001b[39mUSCGS\u001b[39;49m\u001b[39m\"\u001b[39;49m, \u001b[39m\"\u001b[39;49m\u001b[39mNIED\u001b[39;49m\u001b[39m\"\u001b[39;49m, \u001b[39m\"\u001b[39;49m\u001b[39mGCMT\u001b[39;49m\u001b[39m\"\u001b[39;49m, \u001b[39m\"\u001b[39;49m\u001b[39mGUTE\u001b[39;49m\u001b[39m\"\u001b[39;49m, \u001b[39m\"\u001b[39;49m\u001b[39mPAS\u001b[39;49m\u001b[39m\"\u001b[39;49m],\n\u001b[0;32m     15\u001b[0m                    selected_magnitude_agencies\u001b[39m=\u001b[39;49m[\u001b[39m\"\u001b[39;49m\u001b[39mISC-GEM\u001b[39;49m\u001b[39m\"\u001b[39;49m, \u001b[39m\"\u001b[39;49m\u001b[39mISC-EHB\u001b[39;49m\u001b[39m\"\u001b[39;49m, \u001b[39m\"\u001b[39;49m\u001b[39mEHB\u001b[39;49m\u001b[39m\"\u001b[39;49m, \u001b[39m\"\u001b[39;49m\u001b[39mISC\u001b[39;49m\u001b[39m\"\u001b[39;49m, \u001b[39m\"\u001b[39;49m\u001b[39mIDC\u001b[39;49m\u001b[39m\"\u001b[39;49m, \u001b[39m\"\u001b[39;49m\u001b[39mNEIC\u001b[39;49m\u001b[39m\"\u001b[39;49m, \u001b[39m\"\u001b[39;49m\u001b[39mNEIS\u001b[39;49m\u001b[39m\"\u001b[39;49m, \u001b[39m\"\u001b[39;49m\u001b[39mUSCGS\u001b[39;49m\u001b[39m\"\u001b[39;49m, \u001b[39m\"\u001b[39;49m\u001b[39mNIED\u001b[39;49m\u001b[39m\"\u001b[39;49m, \u001b[39m\"\u001b[39;49m\u001b[39mGCMT\u001b[39;49m\u001b[39m\"\u001b[39;49m, \u001b[39m\"\u001b[39;49m\u001b[39mGUTE\u001b[39;49m\u001b[39m\"\u001b[39;49m, \u001b[39m\"\u001b[39;49m\u001b[39mPAS\u001b[39;49m\u001b[39m\"\u001b[39;49m])\n\u001b[0;32m     16\u001b[0m isc_catalogue_1900_1999 \u001b[39m=\u001b[39m isc_parser_1900_1999\u001b[39m.\u001b[39mread_file(\u001b[39m\"\u001b[39m\u001b[39mISC-RB1\u001b[39m\u001b[39m\"\u001b[39m, \u001b[39m\"\u001b[39m\u001b[39mISC-1900-1999\u001b[39m\u001b[39m\"\u001b[39m)\n\u001b[0;32m     18\u001b[0m \u001b[39m#ISC catalogue from 2000.01.01 to 2009.12.31\u001b[39;00m\n",
      "File \u001b[1;32m~\\Desktop\\catalogue\\oq-mbtk-repo\\oq-mbtk\\openquake\\cat\\parsers\\isf_catalogue_reader.py:170\u001b[0m, in \u001b[0;36mISFReader.__init__\u001b[1;34m(self, filename, selected_origin_agencies, selected_magnitude_agencies, rejection_keywords, bbox, lower_magnitude, upper_magnitude, store_all_comments)\u001b[0m\n\u001b[0;32m    165\u001b[0m \u001b[39mdef\u001b[39;00m \u001b[39m__init__\u001b[39m(\u001b[39mself\u001b[39m, filename, selected_origin_agencies\u001b[39m=\u001b[39m[],\n\u001b[0;32m    166\u001b[0m              selected_magnitude_agencies\u001b[39m=\u001b[39m[], rejection_keywords\u001b[39m=\u001b[39m[],\n\u001b[0;32m    167\u001b[0m              bbox\u001b[39m=\u001b[39m[], lower_magnitude\u001b[39m=\u001b[39m\u001b[39mNone\u001b[39;00m, upper_magnitude\u001b[39m=\u001b[39m\u001b[39mNone\u001b[39;00m,\n\u001b[0;32m    168\u001b[0m              store_all_comments\u001b[39m=\u001b[39m\u001b[39mFalse\u001b[39;00m):\n\u001b[1;32m--> 170\u001b[0m     \u001b[39msuper\u001b[39;49m(ISFReader, \u001b[39mself\u001b[39;49m)\u001b[39m.\u001b[39;49m\u001b[39m__init__\u001b[39;49m(filename,\n\u001b[0;32m    171\u001b[0m                                     selected_origin_agencies,\n\u001b[0;32m    172\u001b[0m                                     selected_magnitude_agencies)\n\u001b[0;32m    174\u001b[0m     \u001b[39mself\u001b[39m\u001b[39m.\u001b[39mrejected_catalogue \u001b[39m=\u001b[39m []\n\u001b[0;32m    175\u001b[0m     \u001b[39mself\u001b[39m\u001b[39m.\u001b[39mrejection_keywords \u001b[39m=\u001b[39m rejection_keywords\n",
      "File \u001b[1;32m~\\Desktop\\catalogue\\oq-mbtk-repo\\oq-mbtk\\openquake\\cat\\parsers\\base.py:93\u001b[0m, in \u001b[0;36mBaseCatalogueDatabaseReader.__init__\u001b[1;34m(self, filename, selected_origin_agencies, selected_magnitude_agencies)\u001b[0m\n\u001b[0;32m     83\u001b[0m \u001b[39m\u001b[39m\u001b[39m\"\"\"\u001b[39;00m\n\u001b[0;32m     84\u001b[0m \u001b[39mInstantiate the reader\u001b[39;00m\n\u001b[0;32m     85\u001b[0m \u001b[39m:param str filename:\u001b[39;00m\n\u001b[1;32m   (...)\u001b[0m\n\u001b[0;32m     90\u001b[0m \u001b[39m    List of magnitude agencies to be considered for inclusion\u001b[39;00m\n\u001b[0;32m     91\u001b[0m \u001b[39m\"\"\"\u001b[39;00m\n\u001b[0;32m     92\u001b[0m \u001b[39mif\u001b[39;00m \u001b[39mnot\u001b[39;00m os\u001b[39m.\u001b[39mpath\u001b[39m.\u001b[39mexists(filename):\n\u001b[1;32m---> 93\u001b[0m     \u001b[39mraise\u001b[39;00m \u001b[39mIOError\u001b[39;00m(\u001b[39m\"\u001b[39m\u001b[39mFile \u001b[39m\u001b[39m%s\u001b[39;00m\u001b[39m does not exist!\u001b[39m\u001b[39m\"\u001b[39m \u001b[39m%\u001b[39m filename)\n\u001b[0;32m     94\u001b[0m \u001b[39mself\u001b[39m\u001b[39m.\u001b[39mfilename \u001b[39m=\u001b[39m filename\n\u001b[0;32m     95\u001b[0m \u001b[39mself\u001b[39m\u001b[39m.\u001b[39mcatalogue \u001b[39m=\u001b[39m \u001b[39mNone\u001b[39;00m\n",
      "\u001b[1;31mOSError\u001b[0m: File inputs/1900-1999-PH_ISF_Catalogue.txt does not exist!"
     ]
    }
   ],
   "source": [
    "'''\n",
    "The ISC catalogue is split into four parts because only 50,000 events at a time can be downloaded.\n",
    "The first four catalogues are from 1900.01.01 to 2021.06.30 as the ISC Reviewed Catalouge.\n",
    "The fifth catalogue is from 2021.07.01 to 2021.12.31 as the ISC Comprehensive/Unreviewed Catalogue.\n",
    "The last is the ISC-GEM catalogue\n",
    "\n",
    "\n",
    "Note that ISC-EHB and EHB are the same. IDC agency is associated with ISC catalogue based on Mw check.\n",
    "\n",
    "'''\n",
    "\n",
    "#ISC catalogue from 1900.01.01 to 1999.12.31\n",
    "isc_parser_1900_1999 = ISFReader(\"inputs/1900-1999-PH_ISF_Catalogue.isf\",\n",
    "                   selected_origin_agencies=[\"ISC-GEM\", \"ISC-EHB\", \"EHB\", \"ISC\", \"IDC\", \"NEIC\", \"NEIS\", \"USCGS\", \"NIED\", \"GCMT\", \"GUTE\", \"PAS\"],\n",
    "                   selected_magnitude_agencies=[\"ISC-GEM\", \"ISC-EHB\", \"EHB\", \"ISC\", \"IDC\", \"NEIC\", \"NEIS\", \"USCGS\", \"NIED\", \"GCMT\", \"GUTE\", \"PAS\"])\n",
    "isc_catalogue_1900_1999 = isc_parser_1900_1999.read_file(\"ISC-RB1\", \"ISC-1900-1999\")\n",
    "\n",
    "#ISC catalogue from 2000.01.01 to 2009.12.31\n",
    "isc_parser_2000_2009 = ISFReader(\"inputs/2000-2009-PH_ISF_Catalogue.isf\",\n",
    "                   selected_origin_agencies=[\"ISC-GEM\", \"ISC-EHB\", \"EHB\", \"ISC\", \"IDC\", \"NEIC\", \"NEIS\", \"USCGS\", \"NIED\", \"GCMT\", \"GUTE\", \"PAS\"],\n",
    "                   selected_magnitude_agencies=[\"ISC-GEM\", \"ISC-EHB\", \"EHB\", \"ISC\", \"IDC\", \"NEIC\", \"NEIS\", \"USCGS\", \"NIED\", \"GCMT\", \"GUTE\", \"PAS\"])\n",
    "isc_catalogue_2000_2009 = isc_parser_2000_2009 .read_file(\"ISC-RB2\", \"ISC-2000-2009\")\n",
    "\n",
    "#ISC catalogue from 2010.01.01 to 2014.12.31\n",
    "isc_parser_2010_2014 = ISFReader(\"inputs/2010-2014-PH_ISF_Catalogue.isf\",\n",
    "                   selected_origin_agencies=[\"ISC-GEM\", \"ISC-EHB\", \"EHB\", \"ISC\", \"IDC\", \"NEIC\", \"NEIS\", \"USCGS\", \"NIED\", \"GCMT\", \"GUTE\", \"PAS\"],\n",
    "                   selected_magnitude_agencies=[\"ISC-GEM\", \"ISC-EHB\", \"EHB\", \"ISC\", \"IDC\", \"NEIC\", \"NEIS\", \"USCGS\", \"NIED\", \"GCMT\", \"GUTE\", \"PAS\"])\n",
    "isc_catalogue_2010_2014 = isc_parser_2010_2014 .read_file(\"ISC-RB3\", \"ISC-2010-2014\")\n",
    "\n",
    "#ISC catalogue from 2015.01.01 to 2021.06.30\n",
    "isc_parser_2015_2021 = ISFReader(\"inputs/2015-2021-PH_ISF_Catalogue.isf\",\n",
    "                   selected_origin_agencies=[\"ISC-GEM\", \"ISC-EHB\", \"EHB\", \"ISC\", \"IDC\", \"NEIC\", \"NEIS\", \"USCGS\", \"NIED\", \"GCMT\", \"GUTE\", \"PAS\"],\n",
    "                   selected_magnitude_agencies=[\"ISC-GEM\", \"ISC-EHB\", \"EHB\", \"ISC\", \"IDC\", \"NEIC\", \"NEIS\", \"USCGS\", \"NIED\", \"GCMT\", \"GUTE\", \"PAS\"])\n",
    "isc_catalogue_2015_2021 = isc_parser_2015_2021 .read_file(\"ISC-RB4\", \"ISC-2015-2021\")\n",
    "\n",
    "# #ISC catalogue from 2021.07.01 to 2021.12.31\n",
    "# isc_parser_2021_2023 = ISFReader(\"inputs/2021-2023-PH_ISF_Catalogue.isf\",\n",
    "#                    selected_origin_agencies=[\"ISC-GEM\", \"ISC-EHB\", \"EHB\", \"ISC\", \"IDC\", \"NEIC\", \"NEIS\", \"USCGS\", \"NIED\", \"GCMT\", \"GUTE\", \"PAS\"],\n",
    "#                    selected_magnitude_agencies=[\"ISC-GEM\", \"ISC-EHB\", \"EHB\", \"ISC\", \"IDC\", \"NEIC\", \"NEIS\", \"USCGS\", \"NIED\", \"GCMT\", \"GUTE\", \"PAS\"])\n",
    "# isc_catalogue_2021_2023 = isc_parser_2021_2023.read_file(\"ISC-RB5\", \"ISC-2021-2023\")\n",
    "\n",
    "iscgem_parser = GenericCataloguetoISFParser(\"inputs/isc-gem-cat.csv\")\n",
    "iscgem_catalogue = iscgem_parser.parse(\"ISC-GEM\", \"ISC-GEM-CAT\")"
   ]
  },
  {
   "cell_type": "code",
   "execution_count": null,
   "metadata": {},
   "outputs": [],
   "source": [
    "isc_catalogue_2021_2023"
   ]
  },
  {
   "cell_type": "code",
   "execution_count": null,
   "metadata": {},
   "outputs": [],
   "source": [
    "print(\"ISC Reviewed Bulleting Catalogue 1900-1999 contains: %d events\" % isc_catalogue_1900_1999.get_number_events())\n",
    "print(\"ISC Reviewed Bulleting Catalogue 2000-2009 contains: %d events\" % isc_catalogue_2000_2009.get_number_events())\n",
    "print(\"ISC Reviewed Bulleting Catalogue 2010-2014 contains: %d events\" % isc_catalogue_2010_2014.get_number_events())\n",
    "print(\"ISC Reviewed Bulleting Catalogue 2015-2021 contains: %d events\" % isc_catalogue_2015_2021.get_number_events())\n",
    "print(\"ISC Reviewed Bulleting Catalogue 2021-2023 contains: %d events\" % isc_catalogue_2021_2023.get_number_events())\n",
    "print(\"ISC-GEM Catalogue contains: %d events\" % iscgem_catalogue.get_number_events())"
   ]
  },
  {
   "cell_type": "code",
   "execution_count": null,
   "metadata": {},
   "outputs": [],
   "source": [
    "merger1900_1999 = DuplicateFinder(isc_catalogue_1900_1999, 0.0001, 0.0001, logging=True)\n",
    "mergedCatalogue1900_2009 = merger1900_1999.merge_catalogue(isc_catalogue_2000_2009)"
   ]
  },
  {
   "cell_type": "code",
   "execution_count": null,
   "metadata": {},
   "outputs": [],
   "source": [
    "print(\"ISC Reviewed Bulleting Catalogue 1900-2009 contains: %d events\" % mergedCatalogue1900_2009.get_number_events())"
   ]
  },
  {
   "cell_type": "code",
   "execution_count": null,
   "metadata": {},
   "outputs": [],
   "source": [
    "mergedCatalogue1900_2009"
   ]
  },
  {
   "cell_type": "code",
   "execution_count": null,
   "metadata": {},
   "outputs": [],
   "source": [
    "isc_catalogue"
   ]
  },
  {
   "cell_type": "code",
   "execution_count": null,
   "metadata": {},
   "outputs": [],
   "source": [
    "merger = DuplicateFinder(iscgem_catalogue, 0.0001, 0.0001, logging=True)\n",
    "mergedCatalogue = merger.merge_catalogue(isc_catalogue)"
   ]
  },
  {
   "cell_type": "code",
   "execution_count": null,
   "metadata": {},
   "outputs": [],
   "source": [
    "## Define Rule Sets"
   ]
  },
  {
   "cell_type": "markdown",
   "metadata": {},
   "source": [
    "The catalogue covers the years 2005/06. To illustrate how to apply time variable hierarchies we consider two set of rules:\n",
    "\n",
    "For the origin the order of preference is:\n",
    "\n",
    "(For 2005): EHB, ISC, NEIC, GCMT/HRVD, BJI\n",
    "\n",
    "(For 2006): ISC, EHB, NEIC, BJI, GCMT/HRVD\n"
   ]
  },
  {
   "cell_type": "code",
   "execution_count": null,
   "metadata": {},
   "outputs": [],
   "source": [
    "origin_rules = [\n",
    "    (\"1900/01/01 - 2021/12/31\", [\"ISC-GEM\", \"ISC-EHB\", \"EHB\", \"ISC\", \"IDC\", \"NEIC\", \"NEIS\", \"USCGS\", \"NIED\", \"GCMT\", \"GUTE\", \"PAS\"])\n",
    "]"
   ]
  },
  {
   "cell_type": "markdown",
   "metadata": {
    "collapsed": true
   },
   "source": [
    "### Magnitude Rules "
   ]
  },
  {
   "cell_type": "markdown",
   "metadata": {},
   "source": [
    "#### Weatherill (2015) Table 1. Mw conversions"
   ]
  },
  {
   "cell_type": "code",
   "execution_count": null,
   "metadata": {},
   "outputs": [],
   "source": [
    "\"\"\"\n",
    "Weatherill (2015) Table 1. Mw conversions\n",
    "\"\"\"\n",
    "def iscgem_mw(magnitude):\n",
    "    \"\"\"\n",
    "    For Mw recorded by ISCGEM take the value with no uncertainty\n",
    "    \"\"\"\n",
    "    return magnitude\n",
    "\n",
    "def iscgem_mw_sigma(magnitude):\n",
    "    \"\"\"\n",
    "    No additional uncertainty   \n",
    "    \"\"\"\n",
    "    return 0.0\n",
    "\n",
    "def gcmt_mw(magnitude):\n",
    "    \"\"\"\n",
    "    For Mw recorded by GCMT take the value with no uncertainty\n",
    "    \"\"\"\n",
    "    return magnitude\n",
    "\n",
    "def gcmt_mw_sigma(magnitude):\n",
    "    \"\"\"\n",
    "    No additional uncertainty   \n",
    "    \"\"\"\n",
    "    return 0.0\n",
    "\n",
    "def neic_mw(magnitude):\n",
    "    \"\"\"\n",
    "    If Mw reported by NEIC,\n",
    "    \"\"\"\n",
    "    return 1.021 * magnitude - 0.091\n",
    "\n",
    "def neic_mw_sigma(magnitude):\n",
    "    \"\"\"\n",
    "    Uncertainty of 0.101 units\n",
    "    \"\"\"\n",
    "    return 0.105\n",
    "\n",
    "def nied_mw(magnitude):\n",
    "    \"\"\"\n",
    "    If Mw reported by NIED,\n",
    "    \"\"\"\n",
    "    return 0.964 * magnitude + 0.248\n",
    "\n",
    "def nied_mw_sigma(magnitude):\n",
    "    \"\"\"\n",
    "    Uncertainty of 0.11 units\n",
    "    \"\"\"\n",
    "    return 0.11\n",
    "\n",
    "def isc_ms(magnitude):\n",
    "    \"\"\"\n",
    "    If Ms reported by ISC, convert to Mw from Weatherill (2015),\n",
    "    \"\"\"\n",
    "    if magnitude > 6.0:\n",
    "        return 0.994 * magnitude + 0.1        \n",
    "    else:\n",
    "        return 0.616 * magnitude + 2.369\n",
    "\n",
    "def isc_ms_sigma(magnitude):\n",
    "    \"\"\"\n",
    "    With Magnitude dependent uncertainty\n",
    "    \"\"\"\n",
    "    if magnitude > 6.0:\n",
    "        return 0.174\n",
    "    else:\n",
    "        return 0.147\n",
    "\n",
    "def neic_ms(magnitude):\n",
    "    \"\"\"\n",
    "    If Ms reported by NEIC, convert to Mw from Weatherill (2015),\n",
    "    \"\"\"\n",
    "    if magnitude > 6.47:\n",
    "        return 1.005 * magnitude - 0.026       \n",
    "    else:\n",
    "        return 0.723 * magnitude + 1.798\n",
    "\n",
    "def neic_ms_sigma(magnitude):\n",
    "    \"\"\"\n",
    "    With Magnitude dependent uncertainty\n",
    "    \"\"\"\n",
    "    if magnitude > 6.47:\n",
    "        return 0.187\n",
    "    else:\n",
    "        return 0.159\n",
    "    \n",
    "def neic_msz(magnitude):\n",
    "    \"\"\"\n",
    "    If Msz reported by NEIC, convert to Mw from Weatherill (2015),\n",
    "    \"\"\"\n",
    "    if magnitude > 6.47:\n",
    "        return 0.950 * magnitude + 0.359     \n",
    "    else:\n",
    "        return 0.707 * magnitude + 1.933\n",
    "\n",
    "def neic_msz_sigma(magnitude):\n",
    "    \"\"\"\n",
    "    With Magnitude dependent uncertainty\n",
    "    \"\"\"\n",
    "    if magnitude > 6.47:\n",
    "        return 0.204\n",
    "    else:\n",
    "        return 0.179\n",
    "\n",
    "def neic_mb(magnitude):\n",
    "    \"\"\"\n",
    "    If Mb reported by NEIC,\n",
    "    \"\"\"\n",
    "    return 1.159 * magnitude - 0.659\n",
    "\n",
    "def neic_mb_sigma(magnitude):\n",
    "    \"\"\"\n",
    "    Uncertainty of 0.283 units\n",
    "    \"\"\"\n",
    "    return 0.283\n",
    "\n",
    "def isc_mb(magnitude):\n",
    "    \"\"\"\n",
    "    If Mw reported by isc,\n",
    "    \"\"\"\n",
    "    return 1.084 * magnitude - 0.142\n",
    "\n",
    "def isc_mb_sigma(magnitude):\n",
    "    \"\"\"\n",
    "    Uncertainty of 0.317 units\n",
    "    \"\"\"\n",
    "    return 0.317\n",
    "\n",
    "def pas_ms(magnitude):\n",
    "    \"\"\"\n",
    "    For Ms recorded by paS take the value with no uncertainty. \n",
    "    In their database Pacheco & Sykes (1992) use\n",
    "    the 20-s period Ms value, which, for our purposes, we treat as\n",
    "    equivalent to MW in the magnitude range 7.0 ≤ MW ≤ 8.0. (Weatherill, 2015)\n",
    "    \"\"\"\n",
    "    return magnitude\n",
    "\n",
    "def pas_ms_sigma(magnitude):\n",
    "    \"\"\"\n",
    "    0.2 additional uncertainty   \n",
    "    \"\"\"\n",
    "    return 0.2\n"
   ]
  },
  {
   "cell_type": "markdown",
   "metadata": {},
   "source": [
    "### Define Magnitude Hierarchy"
   ]
  },
  {
   "cell_type": "code",
   "execution_count": null,
   "metadata": {},
   "outputs": [],
   "source": [
    "rule_set_1900 = [\n",
    "    MagnitudeConversionRule(\"ISC-GEM\", \"Mw\", iscgem_mw, iscgem_mw_sigma),\n",
    "    MagnitudeConversionRule(\"GCMT\", \"Mw\", gcmt_mw, gcmt_mw_sigma),\n",
    "    MagnitudeConversionRule(\"NEIC\", \"Mw\", neic_mw, neic_mw_sigma),\n",
    "    MagnitudeConversionRule(\"NIED\", \"Mw\", nied_mw, nied_mw_sigma),\n",
    "    MagnitudeConversionRule(\"ISC\", \"Ms\", isc_ms, isc_ms_sigma),\n",
    "    MagnitudeConversionRule(\"IDC\", \"Ms\", isc_ms, isc_ms_sigma),\n",
    "    MagnitudeConversionRule(\"IDC\", \"Ms\", isc_ms, isc_ms_sigma),\n",
    "    MagnitudeConversionRule(\"NEIC\", \"Ms\", neic_ms, neic_ms_sigma),\n",
    "    MagnitudeConversionRule(\"USCGS\", \"Ms\", neic_ms, neic_ms_sigma),\n",
    "    MagnitudeConversionRule(\"NEIC\", \"Msz\", neic_msz, neic_msz_sigma),\n",
    "    MagnitudeConversionRule(\"NEIC\", \"Mb\", neic_mb, neic_mb_sigma),\n",
    "    MagnitudeConversionRule(\"NEIS\", \"Mb\", neic_mb, neic_mb_sigma),\n",
    "    MagnitudeConversionRule(\"USCGS\", \"Mb\", neic_mb, neic_mb_sigma),\n",
    "    MagnitudeConversionRule(\"ISC\", \"Mb\", isc_mb, isc_mb_sigma),\n",
    "    MagnitudeConversionRule(\"PAS\", \"Ms\", pas_ms, pas_ms_sigma),\n",
    "]\n",
    "\n",
    "magnitude_rules = [\n",
    "    (\"1900/01/01 - 2021/12/31\", rule_set_1900)\n",
    "]"
   ]
  },
  {
   "cell_type": "markdown",
   "metadata": {},
   "source": [
    "### Pre-processing"
   ]
  },
  {
   "cell_type": "markdown",
   "metadata": {},
   "source": [
    "Before executing the homogenisation it is necessary to run a preprocessing step. This searches through the catalogue and identifies which conversion rule to apply:\n",
    "\n",
    "The preprocessor is instantiated with a string describing the sort of rules to be applied.\n",
    "\n",
    "\"time\" - Applies time only\n",
    "\n",
    "\"key\" - Applies key rules only\n",
    "\n",
    "\"depth\" - Applies depth rules only\n",
    "\n",
    "\"time|key\" - Applies joint time and key rules\n",
    "\n",
    "\"time|depth\" - Applied joint time and depth rules\n",
    "\n",
    "\"depth|key\" - Applies joint depth and key rules"
   ]
  },
  {
   "cell_type": "code",
   "execution_count": null,
   "metadata": {},
   "outputs": [],
   "source": [
    "preprocessor = HomogenisorPreprocessor(\"time\")\n",
    "pp_catalogue_1900_1999 = preprocessor.execute(isc_catalogue_1900_1999, origin_rules, magnitude_rules)\n",
    "pp_catalogue_2000_2009 = preprocessor.execute(isc_catalogue_2000_2009, origin_rules, magnitude_rules)\n",
    "pp_catalogue_2010_2014 = preprocessor.execute(isc_catalogue_2010_2014, origin_rules, magnitude_rules)\n",
    "pp_catalogue_2015_2021 = preprocessor.execute(isc_catalogue_2015_2021, origin_rules, magnitude_rules)\n",
    "pp_catalogue_2021_2023 = preprocessor.execute(isc_catalogue_2021_2023, origin_rules, magnitude_rules)\n",
    "pp_catalogue_iscgem = preprocessor.execute(iscgem_catalogue, origin_rules, magnitude_rules)\n",
    "# catalogue = preprocessor.execute(isc_catalogue, origin_rules, magnitude_rules)"
   ]
  },
  {
   "cell_type": "markdown",
   "metadata": {},
   "source": [
    "### Harmonise the Catalogue"
   ]
  },
  {
   "cell_type": "code",
   "execution_count": null,
   "metadata": {
    "scrolled": true
   },
   "outputs": [],
   "source": [
    "harmonisor_1900_1999 = DynamicHomogenisor(pp_catalogue_1900_1999, logging=True)\n",
    "harmonisor_2000_2009 = DynamicHomogenisor(pp_catalogue_2000_2009, logging=True)\n",
    "harmonisor_2010_2014 = DynamicHomogenisor(pp_catalogue_2010_2014, logging=True)\n",
    "harmonisor_2015_2021 = DynamicHomogenisor(pp_catalogue_2015_2021, logging=True)\n",
    "harmonisor_2021_2023 = DynamicHomogenisor(pp_catalogue_2021_2023, logging=True)\n",
    "harmonisor_iscgem = DynamicHomogenisor(pp_catalogue_iscgem, logging=True)\n",
    "\n",
    "homogenised_catalogue_1900_1999 = harmonisor_1900_1999.homogenise(magnitude_rules, origin_rules)\n",
    "homogenised_catalogue_2000_2009 = harmonisor_2000_2009.homogenise(magnitude_rules, origin_rules)\n",
    "homogenised_catalogue_2010_2014 = harmonisor_2010_2014.homogenise(magnitude_rules, origin_rules)\n",
    "homogenised_catalogue_2015_2021 = harmonisor_2015_2021.homogenise(magnitude_rules, origin_rules)\n",
    "homogenised_catalogue_2021_2023 = harmonisor_2021_2023.homogenise(magnitude_rules, origin_rules)\n",
    "homogenised_catalogue_iscgem = harmonisor_iscgem.homogenise(magnitude_rules, origin_rules)"
   ]
  },
  {
   "cell_type": "code",
   "execution_count": null,
   "metadata": {},
   "outputs": [],
   "source": [
    "print(\"ISC Reviewed Bulleting Catalogue 1900-1999 contains: %d events\" % homogenised_catalogue_1900_1999.get_number_events())\n",
    "print(\"ISC Reviewed Bulleting Catalogue 2000-2009 contains: %d events\" % homogenised_catalogue_2000_2009.get_number_events())\n",
    "print(\"ISC Reviewed Bulleting Catalogue 2010-2014 contains: %d events\" % homogenised_catalogue_2010_2014.get_number_events())\n",
    "print(\"ISC Reviewed Bulleting Catalogue 2015-2021 contains: %d events\" % homogenised_catalogue_2015_2021.get_number_events())\n",
    "print(\"ISC Reviewed Bulleting Catalogue 2021-2023 contains: %d events\" % homogenised_catalogue_2021_2023.get_number_events())"
   ]
  },
  {
   "cell_type": "markdown",
   "metadata": {},
   "source": [
    "As logging was enabled, we can dump the log to a csv file and explore which rules and which hierarchy was applied for each event"
   ]
  },
  {
   "cell_type": "code",
   "execution_count": null,
   "metadata": {},
   "outputs": [],
   "source": [
    "from datetime import datetime\n",
    "\n",
    "# Get the current date and time\n",
    "current_datetime = datetime.now().strftime('%Y.%m.%d') #_{current_datetime}\n",
    "\n",
    "log_file = f\"outputs/1900-2021-isc-rb-homogenisor_log.csv\"\n",
    "if os.path.exists(log_file):\n",
    "    os.remove(log_file)\n",
    "\n",
    "harmonisor_1900_1999.dump_log(log_file)\n",
    "\n",
    "log_file = f\"outputs/2000-2009-isc-rb-homogenisor_log.csv\"\n",
    "if os.path.exists(log_file):\n",
    "    os.remove(log_file)\n",
    "\n",
    "harmonisor_2000_2009.dump_log(log_file)\n",
    "\n",
    "log_file = f\"outputs/2010-2014-isc-rb-homogenisor_log.csv\"\n",
    "if os.path.exists(log_file):\n",
    "    os.remove(log_file)\n",
    "\n",
    "harmonisor_2010_2014.dump_log(log_file)\n",
    "\n",
    "log_file = f\"outputs/2015-2021-isc-rb-homogenisor_log.csv\"\n",
    "if os.path.exists(log_file):\n",
    "    os.remove(log_file)\n",
    "\n",
    "harmonisor_2015_2021.dump_log(log_file)\n",
    "\n",
    "log_file = f\"outputs/2021-2023-isc-rb-homogenisor_log.csv\"\n",
    "if os.path.exists(log_file):\n",
    "    os.remove(log_file)\n",
    "\n",
    "harmonisor_2021_2023.dump_log(log_file)\n",
    "\n",
    "# log_file = f\"outputs/iscgem-homogenisor_log_{current_datetime}.csv\"\n",
    "# if os.path.exists(log_file):\n",
    "#     os.remove(log_file)\n",
    "\n",
    "# harmonisor_iscgem.dump_log(log_file)"
   ]
  },
  {
   "cell_type": "markdown",
   "metadata": {},
   "source": [
    "### Export the Homogenised Catalogue to CSV"
   ]
  },
  {
   "cell_type": "code",
   "execution_count": null,
   "metadata": {
    "scrolled": true
   },
   "outputs": [],
   "source": [
    "output_catalogue_file = f\"outputs/1900-1999-isc-rb-homogeneous_catalogue.csv\"\n",
    "if os.path.exists(output_catalogue_file):\n",
    "    os.remove(output_catalogue_file)\n",
    "harmonisor_1900_1999.export_homogenised_to_csv(output_catalogue_file)\n",
    "\n",
    "output_catalogue_file = f\"outputs/2000-2009-isc-rb-homogeneous_catalogue.csv\"\n",
    "if os.path.exists(output_catalogue_file):\n",
    "    os.remove(output_catalogue_file)\n",
    "harmonisor_2000_2009.export_homogenised_to_csv(output_catalogue_file)\n",
    "\n",
    "output_catalogue_file = f\"outputs/2010-2014-isc-rb-homogeneous_catalogue.csv\"\n",
    "if os.path.exists(output_catalogue_file):\n",
    "    os.remove(output_catalogue_file)\n",
    "harmonisor_2010_2014.export_homogenised_to_csv(output_catalogue_file)\n",
    "\n",
    "output_catalogue_file = f\"outputs/2015-2021-isc-rb-homogeneous_catalogue.csv\"\n",
    "if os.path.exists(output_catalogue_file):\n",
    "    os.remove(output_catalogue_file)\n",
    "harmonisor_2015_2021.export_homogenised_to_csv(output_catalogue_file)\n",
    "\n",
    "output_catalogue_file = f\"outputs/2021-2023-isc-rb-homogeneous_catalogue.csv\"\n",
    "if os.path.exists(output_catalogue_file):\n",
    "    os.remove(output_catalogue_file)\n",
    "harmonisor_2021_2023.export_homogenised_to_csv(output_catalogue_file)\n",
    "\n",
    "# output_catalogue_file = f\"outputs/1900-2021-isc-gem-homogeneous_catalogue_{current_datetime}.csv\"\n",
    "# if os.path.exists(output_catalogue_file):\n",
    "#     os.remove(output_catalogue_file)\n",
    "# harmonisor_iscgem.export_homogenised_to_csv(output_catalogue_file)"
   ]
  },
  {
   "cell_type": "code",
   "execution_count": null,
   "metadata": {},
   "outputs": [],
   "source": [
    "'''\n",
    "# Remove stuff after the 19th comma/column so the dataframes can be uniform.\n",
    "'''\n",
    "\n",
    "# input_csv_file = r'outputs/1900-1999-isc-rb-homogeneous_catalogue.csv'\n",
    "# output_csv_file = r'outputs/test/1900-1999-isc-rb-homogeneous_catalogue.csv'\n",
    "\n",
    "# input_csv_file = r'outputs/2000-2009-isc-rb-homogeneous_catalogue.csv'\n",
    "# output_csv_file = r'outputs/test/2000-2009-isc-rb-homogeneous_catalogue.csv'\n",
    "\n",
    "# input_csv_file = r'outputs/2010-2014-isc-rb-homogeneous_catalogue.csv'\n",
    "# output_csv_file = r'outputs/test/2010-2014-isc-rb-homogeneous_catalogue.csv'\n",
    "\n",
    "# input_csv_file = r'outputs/2015-2021-isc-rb-homogeneous_catalogue.csv'\n",
    "# output_csv_file = r'outputs/test/2015-2021-isc-rb-homogeneous_catalogue.csv'\n",
    "\n",
    "input_csv_file = r'outputs/2021-2023-isc-rb-homogeneous_catalogue.csv'\n",
    "output_csv_file = r'outputs/test/2021-2023-isc-rb-homogeneous_catalogue.csv'\n",
    "\n",
    "def remove_text_after_19th_comma(line):\n",
    "    # Split the line into comma-separated values\n",
    "    values = line.split(',')\n",
    "\n",
    "    # Check if there are at least 19 commas in the line\n",
    "    if len(values) >= 20:\n",
    "        # Keep only the first 19 values (before and including the 19th comma)\n",
    "        values = values[:19]\n",
    "\n",
    "    # Join the values back together with commas\n",
    "    new_line = ','.join(values)\n",
    "\n",
    "    return new_line\n",
    "\n",
    "# Read the input CSV file and process each line\n",
    "with open(input_csv_file, 'r') as infile, open(output_csv_file, 'w') as outfile:\n",
    "    for line in infile:\n",
    "        # Remove text after the 19th comma for each line\n",
    "        new_line = remove_text_after_19th_comma(line.strip())\n",
    "\n",
    "        # Write the modified line to the new output CSV file\n",
    "        outfile.write(new_line + '\\n')\n"
   ]
  },
  {
   "cell_type": "code",
   "execution_count": null,
   "metadata": {},
   "outputs": [],
   "source": [
    "import pandas as pd"
   ]
  },
  {
   "cell_type": "code",
   "execution_count": null,
   "metadata": {},
   "outputs": [],
   "source": [
    "import pandas as pd\n",
    "\n",
    "# Read the CSV file into a DataFrame\n",
    "df_1900_1999 = pd.read_csv(r'outputs/test/1900-1999-isc-rb-homogeneous_catalogue.csv')\n",
    "df_2000_2009 = pd.read_csv(r'outputs/test/2000-2009-isc-rb-homogeneous_catalogue.csv')\n",
    "df_2010_2014 = pd.read_csv(r'outputs/test/2010-2014-isc-rb-homogeneous_catalogue.csv')\n",
    "df_2015_2021 = pd.read_csv(r'outputs/test/2015-2021-isc-rb-homogeneous_catalogue.csv')\n",
    "df_2021_2023 = pd.read_csv(r'outputs/test/2021-2023-isc-rb-homogeneous_catalogue.csv')\n",
    "\n",
    "\n",
    "# Concatenate the dataframes vertically\n",
    "df_1900_2023 = pd.concat([df_1900_1999, df_2000_2009, df_2010_2014, df_2015_2021, df_2021_2023], ignore_index=True)\n",
    "\n",
    "# Save the dataframe to a CSV file\n",
    "df_1900_2023.to_csv(r'outputs/test/1900-2023-isc-rb-homogeneous_catalogue.csv', index=False)"
   ]
  },
  {
   "cell_type": "code",
   "execution_count": null,
   "metadata": {},
   "outputs": [],
   "source": [
    "df_1900_2023.head()"
   ]
  },
  {
   "cell_type": "code",
   "execution_count": null,
   "metadata": {},
   "outputs": [],
   "source": [
    "df_iscgem = pd.read_csv(r'inputs/isc-gem-cat.csv')\n",
    "df_iscgem.head()"
   ]
  },
  {
   "cell_type": "code",
   "execution_count": null,
   "metadata": {},
   "outputs": [],
   "source": [
    "# Get the list of column names\n",
    "columns_to_drop = df_iscgem.columns[-6:]\n",
    "\n",
    "# Drop the last 6 columns by column names\n",
    "df_iscgem = df_iscgem.drop(columns=columns_to_drop)\n",
    "\n",
    "df_iscgem.head()"
   ]
  },
  {
   "cell_type": "code",
   "execution_count": null,
   "metadata": {},
   "outputs": [],
   "source": [
    "iscgem_events_df = df_iscgem[\"eventID\"]\n",
    "\n",
    "df_1900_2023_copy = df_1900_2023.copy()\n",
    "print(\"1900-2023\", len(df_1900_2023_copy))\n",
    "\n",
    "df_1900_2023_copy = df_1900_2023_copy[~df_1900_2023_copy[\"eventID\"].isin(iscgem_events_df)]\n",
    "\n",
    "df_iscgem_extended = pd.concat([df_1900_2023_copy, df_iscgem], ignore_index=True)\n",
    "\n",
    "df_iscgem_extended = df_iscgem_extended.sort_values(by=['second'])\n",
    "df_iscgem_extended = df_iscgem_extended.sort_values(by=['minute'])\n",
    "df_iscgem_extended = df_iscgem_extended.sort_values(by=['hour'])\n",
    "df_iscgem_extended = df_iscgem_extended.sort_values(by=['day'])\n",
    "df_iscgem_extended = df_iscgem_extended.sort_values(by=['month'])\n",
    "df_iscgem_extended = df_iscgem_extended.sort_values(by=['year'])\n",
    "\n",
    "print(\"1900-2023 extended\", len(df_iscgem_extended ))"
   ]
  },
  {
   "cell_type": "code",
   "execution_count": null,
   "metadata": {},
   "outputs": [],
   "source": [
    "df_iscgem_extended .to_csv(r'outputs/test/1900-2023-isc-gem-extended-catalogue.csv', index=False)\n",
    "df_iscgem_extended "
   ]
  },
  {
   "cell_type": "code",
   "execution_count": null,
   "metadata": {},
   "outputs": [],
   "source": [
    "print(len(df_1900_1999))\n",
    "print(len(df_2000_2009))\n",
    "print(len(df_2010_2014))\n",
    "print(len(df_2015_2021))\n",
    "print(len(df_2021_2023))"
   ]
  },
  {
   "cell_type": "code",
   "execution_count": null,
   "metadata": {},
   "outputs": [],
   "source": [
    "import os\n",
    "import pandas as pd"
   ]
  },
  {
   "cell_type": "code",
   "execution_count": null,
   "metadata": {},
   "outputs": [],
   "source": []
  },
  {
   "cell_type": "code",
   "execution_count": null,
   "metadata": {},
   "outputs": [],
   "source": [
    "csv_file_path = os.getcwd() + r'\\inputs\\datetime-test.csv'\n",
    "csv_file_path"
   ]
  },
  {
   "cell_type": "code",
   "execution_count": null,
   "metadata": {},
   "outputs": [],
   "source": [
    "# Replace 'your_file.csv' with the actual path to your CSV file.\n",
    "csv_file_path = os.getcwd() + r'\\inputs\\datetime-weatherill.csv'\n",
    "\n",
    "# Use read_csv() to read the CSV file and create a DataFrame.\n",
    "df = pd.read_csv(csv_file_path)\n",
    "\n",
    "\n",
    "# Create a pandas datetime object by combining the individual columns.\n",
    "df['datetime'] = pd.to_datetime(df[['year', 'month', 'day', 'hour', 'minute', 'second']])\n",
    "\n",
    "# Get the Unix timestamp and store it in a new column 'unix_timestamp'.\n",
    "df['unix_weatherill-timestamp'] = df['datetime'].apply(lambda x: x.timestamp())\n",
    "\n",
    "# Now you have a new column 'unix_timestamp' containing the Unix timestamps.\n",
    "df\n",
    "\n",
    "# Define the filename for the CSV file.\n",
    "csv_file_outpath = os.getcwd() + r'\\outputs'\n",
    "csv_filename = \"weatherill-unix.csv\"\n",
    "\n",
    "# Concatenate the current directory and the filename to get the full file path.\n",
    "output_path = os.path.join(csv_file_outpath , csv_filename)\n",
    "\n",
    "# Save the DataFrame as a CSV file in the specified output path.\n",
    "df.to_csv(output_path, index=False)"
   ]
  },
  {
   "cell_type": "code",
   "execution_count": null,
   "metadata": {},
   "outputs": [],
   "source": []
  }
 ],
 "metadata": {
  "kernelspec": {
   "display_name": "Python 3 (ipykernel)",
   "language": "python",
   "name": "python3"
  },
  "language_info": {
   "codemirror_mode": {
    "name": "ipython",
    "version": 3
   },
   "file_extension": ".py",
   "mimetype": "text/x-python",
   "name": "python",
   "nbconvert_exporter": "python",
   "pygments_lexer": "ipython3",
   "version": "3.10.12"
  }
 },
 "nbformat": 4,
 "nbformat_minor": 1
}
